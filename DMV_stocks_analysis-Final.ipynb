{
 "cells": [
  {
   "cell_type": "code",
   "execution_count": 1,
   "metadata": {},
   "outputs": [
    {
     "name": "stderr",
     "output_type": "stream",
     "text": [
      "D:\\Users\\harsh\\anaconda3\\lib\\site-packages\\pandas\\core\\computation\\expressions.py:20: UserWarning: Pandas requires version '2.7.3' or newer of 'numexpr' (version '2.7.1' currently installed).\n",
      "  from pandas.core.computation.check import NUMEXPR_INSTALLED\n"
     ]
    }
   ],
   "source": [
    "import requests\n",
    "import pandas as pd\n",
    "from functools import reduce\n",
    "from sqlalchemy import create_engine, text\n",
    "import json\n",
    "import ast\n",
    "from datetime import datetime\n",
    "import matplotlib.pyplot as plt \n",
    "import seaborn as sns"
   ]
  },
  {
   "cell_type": "code",
   "execution_count": 2,
   "metadata": {},
   "outputs": [],
   "source": [
    "path = 'db_config.json'\n",
    "with open(path,'r') as f:\n",
    "    db_config = json.load(f)"
   ]
  },
  {
   "cell_type": "code",
   "execution_count": 3,
   "metadata": {},
   "outputs": [],
   "source": [
    "db_cnx = create_engine(f\"mysql+pymysql://{db_config['user']}:{db_config['password']}@{db_config['ip']}/{db_config['db_name']}\", \n",
    "                       pool_recycle=3600)"
   ]
  },
  {
   "cell_type": "code",
   "execution_count": 4,
   "metadata": {},
   "outputs": [],
   "source": [
    "def fn_update_source_audit(source_name, last_refresh_dt, last_exec_dt, tot_exec_time, db_cnx):\n",
    "    # Use SQLAlchemy's text() to make the query executable\n",
    "    qry = text(\"\"\"\n",
    "        UPDATE source_audit\n",
    "        SET \n",
    "            last_refresh_dt = :last_refresh_dt,\n",
    "            last_exec_dt = :last_exec_dt,\n",
    "            tot_exec_time = :tot_exec_time\n",
    "        WHERE source_name = :source_name\n",
    "    \"\"\")\n",
    "    \n",
    "    # Execute the query with parameters as a dictionary\n",
    "    with db_cnx.connect() as connection:\n",
    "        connection.execute(qry, {\n",
    "            'last_refresh_dt': last_refresh_dt,\n",
    "            'last_exec_dt': last_exec_dt,\n",
    "            'tot_exec_time': tot_exec_time,\n",
    "            'source_name': source_name\n",
    "        })\n",
    "        connection.commit()\n",
    "\n",
    "\n",
    "#update_source_audit(last_refresh_dt, last_run_dt, last_exec_time, source_name, db_cnx)\n",
    "\n",
    "\n",
    "def fn_insert_task_audit(source_name,last_exec_dt,exec_time, db_cnx):\n",
    "    task_dict = {\n",
    "        'task_name' : {source_name},\n",
    "        'last_exec_dt' : {last_exec_dt},\n",
    "        'flg_success' : 1,\n",
    "        'exec_time' : {exec_time}\n",
    "    }\n",
    "    df = pd.DataFrame([task_dict])\n",
    "    df.to_sql('task_audit', db_cnx, if_exists='append', index=False)\n",
    "    \n",
    "#insert_task_audit(source_name,last_exec_dt,exec_time, db_cnx) \n",
    "\n",
    "\n",
    "\n",
    "\n",
    "def fn_insert_source_info(source_name, last_refresh_dt, time_zone, info):\n",
    "    source_dict = {\n",
    "        'source_name': [source_name],  \n",
    "        'last_refresh_dt': [last_refresh_dt],  \n",
    "        'time_zone': ['US/Eastern'],  \n",
    "        'info': [info] \n",
    "    }\n",
    "\n",
    "    df = pd.DataFrame(source_dict)\n",
    "\n",
    "    df.to_sql('source_info', db_cnx, if_exists='append', index=False)\n",
    "\n",
    "\n",
    "#insert_source_info(source_name,last_refresh_dt,time_zone,info)    "
   ]
  },
  {
   "cell_type": "code",
   "execution_count": 5,
   "metadata": {},
   "outputs": [],
   "source": [
    "def fn_get_inc_df(stock_data_df, source_name, db_cnx):\n",
    "    sql_qry = f\"\"\"\n",
    "        select last_refresh_dt\n",
    "        from source_audit\n",
    "        where source_name = '{source_name}';\n",
    "    \"\"\"\n",
    "    sql_df = pd.read_sql_query(sql_qry,db_cnx)\n",
    "    \n",
    "    last_refresh_dt = sql_df['last_refresh_dt'][0]\n",
    "    last_refresh_dt = pd.Timestamp(last_refresh_dt)\n",
    "    return stock_data_df[stock_data_df['trade_dt'] >= last_refresh_dt]"
   ]
  },
  {
   "cell_type": "code",
   "execution_count": 6,
   "metadata": {},
   "outputs": [],
   "source": [
    "def fn_insert_stock_date(df, source_name, db_cnx):\n",
    "    df['stock_info'] = df['stock_info'].apply(json.dumps)\n",
    "    \n",
    "    source_name = source_name.lower()\n",
    "    df.to_sql(f'st_stock_{source_name}_info', db_cnx, if_exists='replace', index=False)\n",
    "    \n",
    "    db_procedure_name = f'sp_stock_{source_name}'\n",
    "    with db_cnx.connect() as connection:\n",
    "        connection.execute(text(f'CALL {db_procedure_name}()'))"
   ]
  },
  {
   "cell_type": "code",
   "execution_count": 7,
   "metadata": {},
   "outputs": [],
   "source": [
    "def fn_fetch_data(source_name, db_cnx):\n",
    "    start_time = datetime.now()\n",
    "    url = f'https://www.alphavantage.co/query?function=TIME_SERIES_DAILY&symbol={source_name}&outputsize=full&apikey=J9M3DNRBBYIK9GXN'\n",
    "    r = requests.get(url)\n",
    "    data = r.json()\n",
    "    df = pd.DataFrame(data)\n",
    "    \n",
    "    ########### \n",
    "    ## info df\n",
    "    info_df = df[df['Time Series (Daily)'].isna()].reset_index()\n",
    "\n",
    "    ## Last Refresh Date\n",
    "    last_refresh_dt = info_df.loc[\n",
    "        info_df['index'].str.contains('last refreshed', case=False, na=False), \n",
    "        'Meta Data'\n",
    "    ].iloc[0]\n",
    "    \n",
    "    info = info_df.loc[\n",
    "        info_df['index'].str.contains('information', case=False, na=False), \n",
    "        'Meta Data'\n",
    "    ].iloc[0]\n",
    "    \n",
    "    time_zone = info_df.loc[\n",
    "        info_df['index'].str.contains('time zone', case=False, na=False), \n",
    "        'Meta Data'\n",
    "    ].iloc[0]\n",
    "\n",
    "    ## Last Execution Date\n",
    "    last_exec_dt = datetime.now().strftime(\"%Y-%m-%d %H:%M:%S\")\n",
    "    \n",
    "    ### Total Running Time for Fucntion\n",
    "    end_time = datetime.now()\n",
    "    tot_exec_time = (end_time - start_time).total_seconds()\n",
    "    \n",
    "    #### fn_update_source_audit\n",
    "    fn_update_source_audit(source_name, last_refresh_dt, last_exec_dt, tot_exec_time, db_cnx)\n",
    "    \n",
    "    #### fn_insert_task_audit\n",
    "    fn_insert_task_audit(source_name, last_exec_dt, tot_exec_time, db_cnx)\n",
    "    \n",
    "    #### fn_insert_source_info\n",
    "    fn_insert_source_info(source_name, last_refresh_dt, time_zone, info)\n",
    "    \n",
    "    \n",
    "    stock_data_df = df[~df['Time Series (Daily)'].isna()].reset_index()[['index','Time Series (Daily)']]\n",
    "    stock_data_df.columns = ['trade_dt','stock_info']\n",
    "    stock_data_df['trade_dt'] = pd.to_datetime(stock_data_df['trade_dt'])\n",
    "    \n",
    "    stock_data_df = fn_get_inc_df(stock_data_df, source_name, db_cnx)\n",
    "    ### TO Insert The Whole Data\n",
    "    #     fn_insert_stock_date(stock_data_df, source_name, db_cnx)\n",
    "    \n",
    "#     fn_insert_stock_date(stock_data_df[0:11], source_name, db_cnx)\n",
    "    fn_insert_stock_date(stock_data_df, source_name, db_cnx)\n",
    "\n",
    "source_list = ['TSLA', 'AMZN', 'IBM', 'MSFT', 'AAPL']    \n",
    "for source_name in source_list:\n",
    "    # source_name = 'AAPL'\n",
    "    fn_fetch_data(source_name, db_cnx)"
   ]
  },
  {
   "cell_type": "markdown",
   "metadata": {},
   "source": [
    "### Visulization"
   ]
  },
  {
   "cell_type": "markdown",
   "metadata": {},
   "source": [
    "#### Data Load Functions"
   ]
  },
  {
   "cell_type": "code",
   "execution_count": 58,
   "metadata": {},
   "outputs": [],
   "source": [
    "def fn_load_data(table_name, db_cnx):\n",
    "    try:\n",
    "        qry = f\"\"\"\n",
    "            select *\n",
    "            from stock_{table_name}_info;\n",
    "        \"\"\"\n",
    "        df = pd.read_sql_query(qry, db_cnx)\n",
    "        return df\n",
    "    \n",
    "    ### IF table does not exist or some other errors , error handling\n",
    "    except Exception as e:\n",
    "        print(f\"{table_name} did not load properly. Check this error {e}\")"
   ]
  },
  {
   "cell_type": "markdown",
   "metadata": {},
   "source": [
    "#### Data Transformation Functions"
   ]
  },
  {
   "cell_type": "code",
   "execution_count": 59,
   "metadata": {},
   "outputs": [],
   "source": [
    "def safe_literal_eval(x):\n",
    "        try:\n",
    "            return ast.literal_eval(x)\n",
    "        except Exception as e:\n",
    "            try :\n",
    "                return json.loads(x)\n",
    "            except:\n",
    "                return None\n",
    "\n",
    "def fn_data_transformations(df):\n",
    "    df['updated_stock_info'] = df['stock_info'].apply(safe_literal_eval)\n",
    "    \n",
    "    json_df = pd.json_normalize(df['updated_stock_info'])\n",
    "    json_df.columns = json_df.columns.str.replace(r'^\\d+\\.\\s*', '', regex=True)\n",
    "    \n",
    "    result = pd.merge(df,json_df,right_index=True,left_index=True)\n",
    "    result = result[['trade_dt','open','close','high','low','volume']]\n",
    "    \n",
    "    result['trade_dt'] = pd.to_datetime(result['trade_dt'])\n",
    "    result['open'] = result['open'].astype('float')\n",
    "    result['close'] = result['close'].astype('float')\n",
    "    result['high'] = result['high'].astype('float')\n",
    "    result['low'] = result['low'].astype('float')\n",
    "    result['volume'] = pd.to_numeric(result['volume'], errors='coerce')  # Converts invalid values to NaN\n",
    "    result['volume'] = result['volume'].fillna(0).astype('Int64')  # Fill NaN with 0 and convert to Int64\n",
    "    \n",
    "    \n",
    "    ### Also adding Mth_id and Year_id for further Analysis\n",
    "    result['mth_id'] = result['trade_dt'].dt.year * 100 + result['trade_dt'].dt.month\n",
    "    result['year_id'] = result['trade_dt'].dt.year\n",
    "    return result"
   ]
  },
  {
   "cell_type": "code",
   "execution_count": 60,
   "metadata": {},
   "outputs": [],
   "source": [
    "def fn_grp_trans(df, source_name, grp_key):\n",
    "    grp_df = df.groupby(grp_key).agg({\n",
    "        'open' : 'first',\n",
    "        'close' : 'last',\n",
    "        'high' : 'max',\n",
    "        'low' : 'min',\n",
    "        'volume' : 'sum'\n",
    "    }).reset_index()\n",
    "    grp_df.columns = [grp_key, f'{source_name}_open', f'{source_name}_close', f'{source_name}_high',\n",
    "                         f'{source_name}_low', f'{source_name}_volume']\n",
    "    \n",
    "    grp_df[f'{source_name}_pct_change'] = grp_df[f'{source_name}_close'].pct_change() * 100\n",
    "\n",
    "    return grp_df"
   ]
  },
  {
   "cell_type": "code",
   "execution_count": 61,
   "metadata": {},
   "outputs": [],
   "source": [
    "source_list = ['TSLA', 'AMZN', 'IBM', 'MSFT', 'AAPL']\n",
    "source_list = list(map(str.lower, source_list))  ### Every Company name in lower case\n",
    "\n",
    "\n",
    "sources_daily_dict = {}\n",
    "sources_mtly_dict = {}\n",
    "sources_yearly_dict = {}\n",
    "\n",
    "### Load Data\n",
    "for source_name in source_list:\n",
    "    sources_daily_dict[source_name] = fn_load_data(source_name, db_cnx)\n",
    "# sources_daily_dict    \n",
    "# print(sources_daily_dict.keys())\n",
    "\n",
    "### Transform Data\n",
    "for name, df in sources_daily_dict.items():\n",
    "    sources_daily_dict[name] = fn_data_transformations(df)\n",
    "    \n",
    "    sources_mtly_dict[name] = fn_grp_trans(sources_daily_dict[name], name, 'mth_id')\n",
    "    \n",
    "    sources_yearly_dict[name] = fn_grp_trans(sources_daily_dict[name], name, 'year_id')"
   ]
  },
  {
   "cell_type": "code",
   "execution_count": 62,
   "metadata": {},
   "outputs": [
    {
     "data": {
      "text/plain": [
       "dict_keys(['tsla', 'amzn', 'ibm', 'msft', 'aapl'])"
      ]
     },
     "execution_count": 62,
     "metadata": {},
     "output_type": "execute_result"
    }
   ],
   "source": [
    "sources_yearly_dict.keys()"
   ]
  },
  {
   "cell_type": "markdown",
   "metadata": {},
   "source": [
    "### Merging Data"
   ]
  },
  {
   "cell_type": "code",
   "execution_count": 63,
   "metadata": {},
   "outputs": [],
   "source": [
    "merged_mthly_data = reduce(lambda left, right: pd.merge(left, right, on= 'mth_id',how='outer'), sources_mtly_dict.values())\n",
    "\n",
    "merged_mthly_data = merged_mthly_data[merged_mthly_data['mth_id'] > 201012]\n",
    "# merged_mthly_data.to_excel('monthly.xlsx',index=False)"
   ]
  },
  {
   "cell_type": "code",
   "execution_count": 64,
   "metadata": {
    "scrolled": true
   },
   "outputs": [],
   "source": [
    "merged_yearly_data = reduce(lambda left, right: pd.merge(left, right, on= 'year_id',how='outer'), sources_yearly_dict.values())\n",
    "\n",
    "merged_yearly_data = merged_yearly_data[merged_yearly_data['year_id'] > 2010]\n",
    "# merged_yearly_data.to_excel('yearly.xlsx',index=False)"
   ]
  },
  {
   "cell_type": "code",
   "execution_count": 65,
   "metadata": {},
   "outputs": [
    {
     "data": {
      "image/png": "[encoded data removed]",
      "text/plain": [
       "<Figure size 864x504 with 1 Axes>"
      ]
     },
     "metadata": {},
     "output_type": "display_data"
    }
   ],
   "source": [
    "df = merged_yearly_data[['year_id','tsla_volume','amzn_volume','ibm_volume','msft_volume','aapl_volume']]\n",
    "df = merged_yearly_data[merged_yearly_data['year_id'] > 2018][['year_id',  'tsla_volume', 'amzn_volume']]\n",
    "\n",
    "df.set_index('year_id', inplace=True)\n",
    "sns.set_theme(style=\"whitegrid\")\n",
    "\n",
    "# Create the bar chart\n",
    "plt.figure(figsize=(12, 7))\n",
    "bar_width = 0.35\n",
    "x_positions = range(len(df.index))\n",
    "\n",
    "# Plot Tesla volumes\n",
    "plt.bar(x_positions, df['tsla_volume'] / 1e9, width=bar_width, color='skyblue', label='Tesla', edgecolor='black')\n",
    "# Plot Amazon volumes\n",
    "plt.bar([x + bar_width for x in x_positions], df['amzn_volume'] / 1e9, width=bar_width, color='orange', label='Amazon', edgecolor='black')\n",
    "\n",
    "\n",
    "for i, (tsla, amzn) in enumerate(zip(df['tsla_volume'], df['amzn_volume'])):\n",
    "    plt.text(i, tsla / 1e9 + 1, f\"{tsla / 1e9:.1f}B\", ha='center', fontsize=9, color='blue')\n",
    "    plt.text(i + bar_width, amzn / 1e9 + 1, f\"{amzn / 1e9:.1f}B\", ha='center', fontsize=9, color='darkorange')\n",
    "\n",
    "plt.title('Tesla vs Amazon Volume Data (Last 5 Years)', fontsize=18, weight='bold')\n",
    "plt.xlabel('Year', fontsize=14)\n",
    "plt.ylabel('Volume (in billions)', fontsize=14)\n",
    "plt.xticks([x + bar_width / 2 for x in x_positions], df.index, fontsize=12)\n",
    "plt.legend(title='Company', fontsize=12)\n",
    "plt.grid(axis='y', alpha=0.5, linestyle='--')\n",
    "\n",
    "plt.tight_layout()\n",
    "plt.show()\n"
   ]
  },
  {
   "cell_type": "raw",
   "metadata": {},
   "source": [
    "## Initialize Normalization"
   ]
  },
  {
   "cell_type": "code",
   "execution_count": 66,
   "metadata": {},
   "outputs": [],
   "source": [
    "# # 1. Tesla's Growth vs Peers: Normalized Closing Prices\n",
    "# plt.figure(figsize=(14, 8))\n",
    "# for company in source_list:\n",
    "#     merged_mthly_data[f'{company}_normalized'] = merged_mthly_data[f'{company}_close'] / merged_mthly_data[f'{company}_close'].iloc[0] * 100\n",
    "#     plt.plot(merged_mthly_data['mth_id'], merged_mthly_data[f'{company}_normalized'], label=company)\n",
    "# plt.title(\"Normalized Stock Closing Prices Over Time\", fontsize=16)\n",
    "# plt.xlabel(\"Date\", fontsize=14)\n",
    "# plt.ylabel(\"Normalized Closing Price (%)\", fontsize=14)\n",
    "# plt.legend(title=\"Company\")\n",
    "# plt.grid()\n",
    "# plt.show()"
   ]
  },
  {
   "cell_type": "code",
   "execution_count": 67,
   "metadata": {},
   "outputs": [
    {
     "data": {
      "text/html": [
       "<div>\n",
       "<style scoped>\n",
       "    .dataframe tbody tr th:only-of-type {\n",
       "        vertical-align: middle;\n",
       "    }\n",
       "\n",
       "    .dataframe tbody tr th {\n",
       "        vertical-align: top;\n",
       "    }\n",
       "\n",
       "    .dataframe thead th {\n",
       "        text-align: right;\n",
       "    }\n",
       "</style>\n",
       "<table border=\"1\" class=\"dataframe\">\n",
       "  <thead>\n",
       "    <tr style=\"text-align: right;\">\n",
       "      <th></th>\n",
       "      <th>mth_id</th>\n",
       "      <th>tsla_open</th>\n",
       "      <th>tsla_close</th>\n",
       "      <th>tsla_high</th>\n",
       "      <th>tsla_low</th>\n",
       "      <th>tsla_volume</th>\n",
       "      <th>tsla_pct_change</th>\n",
       "      <th>amzn_open</th>\n",
       "      <th>amzn_close</th>\n",
       "      <th>amzn_high</th>\n",
       "      <th>...</th>\n",
       "      <th>msft_low</th>\n",
       "      <th>msft_volume</th>\n",
       "      <th>msft_pct_change</th>\n",
       "      <th>aapl_open</th>\n",
       "      <th>aapl_close</th>\n",
       "      <th>aapl_high</th>\n",
       "      <th>aapl_low</th>\n",
       "      <th>aapl_volume</th>\n",
       "      <th>aapl_pct_change</th>\n",
       "      <th>year_id</th>\n",
       "    </tr>\n",
       "  </thead>\n",
       "  <tbody>\n",
       "    <tr>\n",
       "      <th>7</th>\n",
       "      <td>201101</td>\n",
       "      <td>26.840</td>\n",
       "      <td>24.10</td>\n",
       "      <td>28.710</td>\n",
       "      <td>22.37</td>\n",
       "      <td>28420100</td>\n",
       "      <td>-9.500563</td>\n",
       "      <td>181.370</td>\n",
       "      <td>169.64</td>\n",
       "      <td>191.60</td>\n",
       "      <td>...</td>\n",
       "      <td>27.4200</td>\n",
       "      <td>1361258700</td>\n",
       "      <td>-0.662845</td>\n",
       "      <td>325.640</td>\n",
       "      <td>339.3200</td>\n",
       "      <td>348.60</td>\n",
       "      <td>324.8365</td>\n",
       "      <td>387197700</td>\n",
       "      <td>5.195933</td>\n",
       "      <td>2011</td>\n",
       "    </tr>\n",
       "    <tr>\n",
       "      <th>8</th>\n",
       "      <td>201102</td>\n",
       "      <td>24.310</td>\n",
       "      <td>23.89</td>\n",
       "      <td>25.490</td>\n",
       "      <td>21.11</td>\n",
       "      <td>29303500</td>\n",
       "      <td>-0.871369</td>\n",
       "      <td>170.520</td>\n",
       "      <td>173.29</td>\n",
       "      <td>191.40</td>\n",
       "      <td>...</td>\n",
       "      <td>26.4300</td>\n",
       "      <td>1114368500</td>\n",
       "      <td>-4.129847</td>\n",
       "      <td>341.300</td>\n",
       "      <td>353.2100</td>\n",
       "      <td>364.90</td>\n",
       "      <td>337.7200</td>\n",
       "      <td>331998200</td>\n",
       "      <td>4.093481</td>\n",
       "      <td>2011</td>\n",
       "    </tr>\n",
       "    <tr>\n",
       "      <th>9</th>\n",
       "      <td>201103</td>\n",
       "      <td>24.050</td>\n",
       "      <td>27.75</td>\n",
       "      <td>28.710</td>\n",
       "      <td>21.77</td>\n",
       "      <td>32563300</td>\n",
       "      <td>16.157388</td>\n",
       "      <td>173.530</td>\n",
       "      <td>180.13</td>\n",
       "      <td>181.57</td>\n",
       "      <td>...</td>\n",
       "      <td>24.6800</td>\n",
       "      <td>1310885200</td>\n",
       "      <td>-4.477050</td>\n",
       "      <td>355.470</td>\n",
       "      <td>348.5075</td>\n",
       "      <td>361.67</td>\n",
       "      <td>326.2600</td>\n",
       "      <td>403802100</td>\n",
       "      <td>-1.331361</td>\n",
       "      <td>2011</td>\n",
       "    </tr>\n",
       "    <tr>\n",
       "      <th>10</th>\n",
       "      <td>201104</td>\n",
       "      <td>27.450</td>\n",
       "      <td>27.60</td>\n",
       "      <td>28.180</td>\n",
       "      <td>24.20</td>\n",
       "      <td>29894900</td>\n",
       "      <td>-0.540541</td>\n",
       "      <td>181.580</td>\n",
       "      <td>195.81</td>\n",
       "      <td>197.80</td>\n",
       "      <td>...</td>\n",
       "      <td>24.7200</td>\n",
       "      <td>1313844800</td>\n",
       "      <td>2.087436</td>\n",
       "      <td>351.110</td>\n",
       "      <td>350.1300</td>\n",
       "      <td>355.13</td>\n",
       "      <td>320.1600</td>\n",
       "      <td>330493900</td>\n",
       "      <td>0.465557</td>\n",
       "      <td>2011</td>\n",
       "    </tr>\n",
       "    <tr>\n",
       "      <th>11</th>\n",
       "      <td>201105</td>\n",
       "      <td>27.600</td>\n",
       "      <td>30.14</td>\n",
       "      <td>30.280</td>\n",
       "      <td>25.52</td>\n",
       "      <td>30348800</td>\n",
       "      <td>9.202899</td>\n",
       "      <td>196.570</td>\n",
       "      <td>196.69</td>\n",
       "      <td>206.39</td>\n",
       "      <td>...</td>\n",
       "      <td>24.0300</td>\n",
       "      <td>1364062800</td>\n",
       "      <td>-3.510802</td>\n",
       "      <td>349.740</td>\n",
       "      <td>347.8300</td>\n",
       "      <td>351.83</td>\n",
       "      <td>329.4200</td>\n",
       "      <td>246859300</td>\n",
       "      <td>-0.656899</td>\n",
       "      <td>2011</td>\n",
       "    </tr>\n",
       "    <tr>\n",
       "      <th>...</th>\n",
       "      <td>...</td>\n",
       "      <td>...</td>\n",
       "      <td>...</td>\n",
       "      <td>...</td>\n",
       "      <td>...</td>\n",
       "      <td>...</td>\n",
       "      <td>...</td>\n",
       "      <td>...</td>\n",
       "      <td>...</td>\n",
       "      <td>...</td>\n",
       "      <td>...</td>\n",
       "      <td>...</td>\n",
       "      <td>...</td>\n",
       "      <td>...</td>\n",
       "      <td>...</td>\n",
       "      <td>...</td>\n",
       "      <td>...</td>\n",
       "      <td>...</td>\n",
       "      <td>...</td>\n",
       "      <td>...</td>\n",
       "      <td>...</td>\n",
       "    </tr>\n",
       "    <tr>\n",
       "      <th>169</th>\n",
       "      <td>202407</td>\n",
       "      <td>201.020</td>\n",
       "      <td>232.07</td>\n",
       "      <td>271.000</td>\n",
       "      <td>200.85</td>\n",
       "      <td>2946645956</td>\n",
       "      <td>17.278148</td>\n",
       "      <td>193.490</td>\n",
       "      <td>186.98</td>\n",
       "      <td>201.20</td>\n",
       "      <td>...</td>\n",
       "      <td>412.2100</td>\n",
       "      <td>440446499</td>\n",
       "      <td>-6.398926</td>\n",
       "      <td>212.090</td>\n",
       "      <td>222.0800</td>\n",
       "      <td>237.23</td>\n",
       "      <td>211.9200</td>\n",
       "      <td>1153193377</td>\n",
       "      <td>5.441079</td>\n",
       "      <td>2024</td>\n",
       "    </tr>\n",
       "    <tr>\n",
       "      <th>170</th>\n",
       "      <td>202408</td>\n",
       "      <td>227.690</td>\n",
       "      <td>214.11</td>\n",
       "      <td>231.867</td>\n",
       "      <td>182.00</td>\n",
       "      <td>1618373088</td>\n",
       "      <td>-7.739044</td>\n",
       "      <td>189.285</td>\n",
       "      <td>178.50</td>\n",
       "      <td>190.60</td>\n",
       "      <td>...</td>\n",
       "      <td>385.5800</td>\n",
       "      <td>451919023</td>\n",
       "      <td>-0.289232</td>\n",
       "      <td>224.370</td>\n",
       "      <td>229.0000</td>\n",
       "      <td>232.92</td>\n",
       "      <td>196.0000</td>\n",
       "      <td>1122666993</td>\n",
       "      <td>3.115994</td>\n",
       "      <td>2024</td>\n",
       "    </tr>\n",
       "    <tr>\n",
       "      <th>171</th>\n",
       "      <td>202409</td>\n",
       "      <td>215.260</td>\n",
       "      <td>261.63</td>\n",
       "      <td>264.860</td>\n",
       "      <td>209.64</td>\n",
       "      <td>1611006644</td>\n",
       "      <td>22.194199</td>\n",
       "      <td>177.550</td>\n",
       "      <td>186.33</td>\n",
       "      <td>195.37</td>\n",
       "      <td>...</td>\n",
       "      <td>400.8000</td>\n",
       "      <td>376719438</td>\n",
       "      <td>3.154816</td>\n",
       "      <td>228.550</td>\n",
       "      <td>233.0000</td>\n",
       "      <td>233.09</td>\n",
       "      <td>213.9200</td>\n",
       "      <td>1231814423</td>\n",
       "      <td>1.746725</td>\n",
       "      <td>2024</td>\n",
       "    </tr>\n",
       "    <tr>\n",
       "      <th>172</th>\n",
       "      <td>202410</td>\n",
       "      <td>262.670</td>\n",
       "      <td>249.85</td>\n",
       "      <td>273.536</td>\n",
       "      <td>212.11</td>\n",
       "      <td>1910960826</td>\n",
       "      <td>-4.502542</td>\n",
       "      <td>184.900</td>\n",
       "      <td>186.40</td>\n",
       "      <td>195.61</td>\n",
       "      <td>...</td>\n",
       "      <td>406.3000</td>\n",
       "      <td>440766715</td>\n",
       "      <td>-5.565884</td>\n",
       "      <td>229.520</td>\n",
       "      <td>225.9100</td>\n",
       "      <td>237.49</td>\n",
       "      <td>221.3300</td>\n",
       "      <td>930835961</td>\n",
       "      <td>-3.042918</td>\n",
       "      <td>2024</td>\n",
       "    </tr>\n",
       "    <tr>\n",
       "      <th>173</th>\n",
       "      <td>202411</td>\n",
       "      <td>252.043</td>\n",
       "      <td>345.16</td>\n",
       "      <td>361.930</td>\n",
       "      <td>238.88</td>\n",
       "      <td>2032706729</td>\n",
       "      <td>38.146888</td>\n",
       "      <td>199.000</td>\n",
       "      <td>207.89</td>\n",
       "      <td>215.90</td>\n",
       "      <td>...</td>\n",
       "      <td>405.5713</td>\n",
       "      <td>421969692</td>\n",
       "      <td>4.210656</td>\n",
       "      <td>220.965</td>\n",
       "      <td>237.3300</td>\n",
       "      <td>237.81</td>\n",
       "      <td>219.7100</td>\n",
       "      <td>855495560</td>\n",
       "      <td>5.055110</td>\n",
       "      <td>2024</td>\n",
       "    </tr>\n",
       "  </tbody>\n",
       "</table>\n",
       "<p>167 rows × 32 columns</p>\n",
       "</div>"
      ],
      "text/plain": [
       "     mth_id  tsla_open  tsla_close  tsla_high  tsla_low  tsla_volume  \\\n",
       "7    201101     26.840       24.10     28.710     22.37     28420100   \n",
       "8    201102     24.310       23.89     25.490     21.11     29303500   \n",
       "9    201103     24.050       27.75     28.710     21.77     32563300   \n",
       "10   201104     27.450       27.60     28.180     24.20     29894900   \n",
       "11   201105     27.600       30.14     30.280     25.52     30348800   \n",
       "..      ...        ...         ...        ...       ...          ...   \n",
       "169  202407    201.020      232.07    271.000    200.85   2946645956   \n",
       "170  202408    227.690      214.11    231.867    182.00   1618373088   \n",
       "171  202409    215.260      261.63    264.860    209.64   1611006644   \n",
       "172  202410    262.670      249.85    273.536    212.11   1910960826   \n",
       "173  202411    252.043      345.16    361.930    238.88   2032706729   \n",
       "\n",
       "     tsla_pct_change  amzn_open  amzn_close  amzn_high  ...  msft_low  \\\n",
       "7          -9.500563    181.370      169.64     191.60  ...   27.4200   \n",
       "8          -0.871369    170.520      173.29     191.40  ...   26.4300   \n",
       "9          16.157388    173.530      180.13     181.57  ...   24.6800   \n",
       "10         -0.540541    181.580      195.81     197.80  ...   24.7200   \n",
       "11          9.202899    196.570      196.69     206.39  ...   24.0300   \n",
       "..               ...        ...         ...        ...  ...       ...   \n",
       "169        17.278148    193.490      186.98     201.20  ...  412.2100   \n",
       "170        -7.739044    189.285      178.50     190.60  ...  385.5800   \n",
       "171        22.194199    177.550      186.33     195.37  ...  400.8000   \n",
       "172        -4.502542    184.900      186.40     195.61  ...  406.3000   \n",
       "173        38.146888    199.000      207.89     215.90  ...  405.5713   \n",
       "\n",
       "     msft_volume  msft_pct_change  aapl_open  aapl_close  aapl_high  aapl_low  \\\n",
       "7     1361258700        -0.662845    325.640    339.3200     348.60  324.8365   \n",
       "8     1114368500        -4.129847    341.300    353.2100     364.90  337.7200   \n",
       "9     1310885200        -4.477050    355.470    348.5075     361.67  326.2600   \n",
       "10    1313844800         2.087436    351.110    350.1300     355.13  320.1600   \n",
       "11    1364062800        -3.510802    349.740    347.8300     351.83  329.4200   \n",
       "..           ...              ...        ...         ...        ...       ...   \n",
       "169    440446499        -6.398926    212.090    222.0800     237.23  211.9200   \n",
       "170    451919023        -0.289232    224.370    229.0000     232.92  196.0000   \n",
       "171    376719438         3.154816    228.550    233.0000     233.09  213.9200   \n",
       "172    440766715        -5.565884    229.520    225.9100     237.49  221.3300   \n",
       "173    421969692         4.210656    220.965    237.3300     237.81  219.7100   \n",
       "\n",
       "     aapl_volume  aapl_pct_change  year_id  \n",
       "7      387197700         5.195933     2011  \n",
       "8      331998200         4.093481     2011  \n",
       "9      403802100        -1.331361     2011  \n",
       "10     330493900         0.465557     2011  \n",
       "11     246859300        -0.656899     2011  \n",
       "..           ...              ...      ...  \n",
       "169   1153193377         5.441079     2024  \n",
       "170   1122666993         3.115994     2024  \n",
       "171   1231814423         1.746725     2024  \n",
       "172    930835961        -3.042918     2024  \n",
       "173    855495560         5.055110     2024  \n",
       "\n",
       "[167 rows x 32 columns]"
      ]
     },
     "execution_count": 67,
     "metadata": {},
     "output_type": "execute_result"
    }
   ],
   "source": [
    "merged_mthly_data['year_id'] = (round(merged_mthly_data['mth_id']/100))\n",
    "merged_mthly_data['year_id'] = merged_mthly_data['year_id'].astype('Int64')\n",
    "merged_mthly_data"
   ]
  },
  {
   "cell_type": "code",
   "execution_count": 68,
   "metadata": {},
   "outputs": [
    {
     "data": {
      "text/html": [
       "<div>\n",
       "<style scoped>\n",
       "    .dataframe tbody tr th:only-of-type {\n",
       "        vertical-align: middle;\n",
       "    }\n",
       "\n",
       "    .dataframe tbody tr th {\n",
       "        vertical-align: top;\n",
       "    }\n",
       "\n",
       "    .dataframe thead th {\n",
       "        text-align: right;\n",
       "    }\n",
       "</style>\n",
       "<table border=\"1\" class=\"dataframe\">\n",
       "  <thead>\n",
       "    <tr style=\"text-align: right;\">\n",
       "      <th></th>\n",
       "      <th>mth_id</th>\n",
       "      <th>tsla_open</th>\n",
       "      <th>tsla_close</th>\n",
       "      <th>tsla_high</th>\n",
       "      <th>tsla_low</th>\n",
       "      <th>tsla_volume</th>\n",
       "      <th>tsla_pct_change</th>\n",
       "      <th>amzn_open</th>\n",
       "      <th>amzn_close</th>\n",
       "      <th>amzn_high</th>\n",
       "      <th>...</th>\n",
       "      <th>msft_low</th>\n",
       "      <th>msft_volume</th>\n",
       "      <th>msft_pct_change</th>\n",
       "      <th>aapl_open</th>\n",
       "      <th>aapl_close</th>\n",
       "      <th>aapl_high</th>\n",
       "      <th>aapl_low</th>\n",
       "      <th>aapl_volume</th>\n",
       "      <th>aapl_pct_change</th>\n",
       "      <th>year_id</th>\n",
       "    </tr>\n",
       "  </thead>\n",
       "  <tbody>\n",
       "    <tr>\n",
       "      <th>7</th>\n",
       "      <td>201101</td>\n",
       "      <td>26.840</td>\n",
       "      <td>24.10</td>\n",
       "      <td>28.710</td>\n",
       "      <td>22.37</td>\n",
       "      <td>28420100</td>\n",
       "      <td>-9.500563</td>\n",
       "      <td>181.370</td>\n",
       "      <td>169.64</td>\n",
       "      <td>191.60</td>\n",
       "      <td>...</td>\n",
       "      <td>27.4200</td>\n",
       "      <td>1361258700</td>\n",
       "      <td>-0.662845</td>\n",
       "      <td>325.640</td>\n",
       "      <td>339.3200</td>\n",
       "      <td>348.60</td>\n",
       "      <td>324.8365</td>\n",
       "      <td>387197700</td>\n",
       "      <td>5.195933</td>\n",
       "      <td>2011</td>\n",
       "    </tr>\n",
       "    <tr>\n",
       "      <th>8</th>\n",
       "      <td>201102</td>\n",
       "      <td>24.310</td>\n",
       "      <td>23.89</td>\n",
       "      <td>25.490</td>\n",
       "      <td>21.11</td>\n",
       "      <td>29303500</td>\n",
       "      <td>-0.871369</td>\n",
       "      <td>170.520</td>\n",
       "      <td>173.29</td>\n",
       "      <td>191.40</td>\n",
       "      <td>...</td>\n",
       "      <td>26.4300</td>\n",
       "      <td>1114368500</td>\n",
       "      <td>-4.129847</td>\n",
       "      <td>341.300</td>\n",
       "      <td>353.2100</td>\n",
       "      <td>364.90</td>\n",
       "      <td>337.7200</td>\n",
       "      <td>331998200</td>\n",
       "      <td>4.093481</td>\n",
       "      <td>2011</td>\n",
       "    </tr>\n",
       "    <tr>\n",
       "      <th>9</th>\n",
       "      <td>201103</td>\n",
       "      <td>24.050</td>\n",
       "      <td>27.75</td>\n",
       "      <td>28.710</td>\n",
       "      <td>21.77</td>\n",
       "      <td>32563300</td>\n",
       "      <td>16.157388</td>\n",
       "      <td>173.530</td>\n",
       "      <td>180.13</td>\n",
       "      <td>181.57</td>\n",
       "      <td>...</td>\n",
       "      <td>24.6800</td>\n",
       "      <td>1310885200</td>\n",
       "      <td>-4.477050</td>\n",
       "      <td>355.470</td>\n",
       "      <td>348.5075</td>\n",
       "      <td>361.67</td>\n",
       "      <td>326.2600</td>\n",
       "      <td>403802100</td>\n",
       "      <td>-1.331361</td>\n",
       "      <td>2011</td>\n",
       "    </tr>\n",
       "    <tr>\n",
       "      <th>10</th>\n",
       "      <td>201104</td>\n",
       "      <td>27.450</td>\n",
       "      <td>27.60</td>\n",
       "      <td>28.180</td>\n",
       "      <td>24.20</td>\n",
       "      <td>29894900</td>\n",
       "      <td>-0.540541</td>\n",
       "      <td>181.580</td>\n",
       "      <td>195.81</td>\n",
       "      <td>197.80</td>\n",
       "      <td>...</td>\n",
       "      <td>24.7200</td>\n",
       "      <td>1313844800</td>\n",
       "      <td>2.087436</td>\n",
       "      <td>351.110</td>\n",
       "      <td>350.1300</td>\n",
       "      <td>355.13</td>\n",
       "      <td>320.1600</td>\n",
       "      <td>330493900</td>\n",
       "      <td>0.465557</td>\n",
       "      <td>2011</td>\n",
       "    </tr>\n",
       "    <tr>\n",
       "      <th>11</th>\n",
       "      <td>201105</td>\n",
       "      <td>27.600</td>\n",
       "      <td>30.14</td>\n",
       "      <td>30.280</td>\n",
       "      <td>25.52</td>\n",
       "      <td>30348800</td>\n",
       "      <td>9.202899</td>\n",
       "      <td>196.570</td>\n",
       "      <td>196.69</td>\n",
       "      <td>206.39</td>\n",
       "      <td>...</td>\n",
       "      <td>24.0300</td>\n",
       "      <td>1364062800</td>\n",
       "      <td>-3.510802</td>\n",
       "      <td>349.740</td>\n",
       "      <td>347.8300</td>\n",
       "      <td>351.83</td>\n",
       "      <td>329.4200</td>\n",
       "      <td>246859300</td>\n",
       "      <td>-0.656899</td>\n",
       "      <td>2011</td>\n",
       "    </tr>\n",
       "    <tr>\n",
       "      <th>...</th>\n",
       "      <td>...</td>\n",
       "      <td>...</td>\n",
       "      <td>...</td>\n",
       "      <td>...</td>\n",
       "      <td>...</td>\n",
       "      <td>...</td>\n",
       "      <td>...</td>\n",
       "      <td>...</td>\n",
       "      <td>...</td>\n",
       "      <td>...</td>\n",
       "      <td>...</td>\n",
       "      <td>...</td>\n",
       "      <td>...</td>\n",
       "      <td>...</td>\n",
       "      <td>...</td>\n",
       "      <td>...</td>\n",
       "      <td>...</td>\n",
       "      <td>...</td>\n",
       "      <td>...</td>\n",
       "      <td>...</td>\n",
       "      <td>...</td>\n",
       "    </tr>\n",
       "    <tr>\n",
       "      <th>169</th>\n",
       "      <td>202407</td>\n",
       "      <td>201.020</td>\n",
       "      <td>232.07</td>\n",
       "      <td>271.000</td>\n",
       "      <td>200.85</td>\n",
       "      <td>2946645956</td>\n",
       "      <td>17.278148</td>\n",
       "      <td>193.490</td>\n",
       "      <td>186.98</td>\n",
       "      <td>201.20</td>\n",
       "      <td>...</td>\n",
       "      <td>412.2100</td>\n",
       "      <td>440446499</td>\n",
       "      <td>-6.398926</td>\n",
       "      <td>212.090</td>\n",
       "      <td>222.0800</td>\n",
       "      <td>237.23</td>\n",
       "      <td>211.9200</td>\n",
       "      <td>1153193377</td>\n",
       "      <td>5.441079</td>\n",
       "      <td>2024</td>\n",
       "    </tr>\n",
       "    <tr>\n",
       "      <th>170</th>\n",
       "      <td>202408</td>\n",
       "      <td>227.690</td>\n",
       "      <td>214.11</td>\n",
       "      <td>231.867</td>\n",
       "      <td>182.00</td>\n",
       "      <td>1618373088</td>\n",
       "      <td>-7.739044</td>\n",
       "      <td>189.285</td>\n",
       "      <td>178.50</td>\n",
       "      <td>190.60</td>\n",
       "      <td>...</td>\n",
       "      <td>385.5800</td>\n",
       "      <td>451919023</td>\n",
       "      <td>-0.289232</td>\n",
       "      <td>224.370</td>\n",
       "      <td>229.0000</td>\n",
       "      <td>232.92</td>\n",
       "      <td>196.0000</td>\n",
       "      <td>1122666993</td>\n",
       "      <td>3.115994</td>\n",
       "      <td>2024</td>\n",
       "    </tr>\n",
       "    <tr>\n",
       "      <th>171</th>\n",
       "      <td>202409</td>\n",
       "      <td>215.260</td>\n",
       "      <td>261.63</td>\n",
       "      <td>264.860</td>\n",
       "      <td>209.64</td>\n",
       "      <td>1611006644</td>\n",
       "      <td>22.194199</td>\n",
       "      <td>177.550</td>\n",
       "      <td>186.33</td>\n",
       "      <td>195.37</td>\n",
       "      <td>...</td>\n",
       "      <td>400.8000</td>\n",
       "      <td>376719438</td>\n",
       "      <td>3.154816</td>\n",
       "      <td>228.550</td>\n",
       "      <td>233.0000</td>\n",
       "      <td>233.09</td>\n",
       "      <td>213.9200</td>\n",
       "      <td>1231814423</td>\n",
       "      <td>1.746725</td>\n",
       "      <td>2024</td>\n",
       "    </tr>\n",
       "    <tr>\n",
       "      <th>172</th>\n",
       "      <td>202410</td>\n",
       "      <td>262.670</td>\n",
       "      <td>249.85</td>\n",
       "      <td>273.536</td>\n",
       "      <td>212.11</td>\n",
       "      <td>1910960826</td>\n",
       "      <td>-4.502542</td>\n",
       "      <td>184.900</td>\n",
       "      <td>186.40</td>\n",
       "      <td>195.61</td>\n",
       "      <td>...</td>\n",
       "      <td>406.3000</td>\n",
       "      <td>440766715</td>\n",
       "      <td>-5.565884</td>\n",
       "      <td>229.520</td>\n",
       "      <td>225.9100</td>\n",
       "      <td>237.49</td>\n",
       "      <td>221.3300</td>\n",
       "      <td>930835961</td>\n",
       "      <td>-3.042918</td>\n",
       "      <td>2024</td>\n",
       "    </tr>\n",
       "    <tr>\n",
       "      <th>173</th>\n",
       "      <td>202411</td>\n",
       "      <td>252.043</td>\n",
       "      <td>345.16</td>\n",
       "      <td>361.930</td>\n",
       "      <td>238.88</td>\n",
       "      <td>2032706729</td>\n",
       "      <td>38.146888</td>\n",
       "      <td>199.000</td>\n",
       "      <td>207.89</td>\n",
       "      <td>215.90</td>\n",
       "      <td>...</td>\n",
       "      <td>405.5713</td>\n",
       "      <td>421969692</td>\n",
       "      <td>4.210656</td>\n",
       "      <td>220.965</td>\n",
       "      <td>237.3300</td>\n",
       "      <td>237.81</td>\n",
       "      <td>219.7100</td>\n",
       "      <td>855495560</td>\n",
       "      <td>5.055110</td>\n",
       "      <td>2024</td>\n",
       "    </tr>\n",
       "  </tbody>\n",
       "</table>\n",
       "<p>167 rows × 32 columns</p>\n",
       "</div>"
      ],
      "text/plain": [
       "     mth_id  tsla_open  tsla_close  tsla_high  tsla_low  tsla_volume  \\\n",
       "7    201101     26.840       24.10     28.710     22.37     28420100   \n",
       "8    201102     24.310       23.89     25.490     21.11     29303500   \n",
       "9    201103     24.050       27.75     28.710     21.77     32563300   \n",
       "10   201104     27.450       27.60     28.180     24.20     29894900   \n",
       "11   201105     27.600       30.14     30.280     25.52     30348800   \n",
       "..      ...        ...         ...        ...       ...          ...   \n",
       "169  202407    201.020      232.07    271.000    200.85   2946645956   \n",
       "170  202408    227.690      214.11    231.867    182.00   1618373088   \n",
       "171  202409    215.260      261.63    264.860    209.64   1611006644   \n",
       "172  202410    262.670      249.85    273.536    212.11   1910960826   \n",
       "173  202411    252.043      345.16    361.930    238.88   2032706729   \n",
       "\n",
       "     tsla_pct_change  amzn_open  amzn_close  amzn_high  ...  msft_low  \\\n",
       "7          -9.500563    181.370      169.64     191.60  ...   27.4200   \n",
       "8          -0.871369    170.520      173.29     191.40  ...   26.4300   \n",
       "9          16.157388    173.530      180.13     181.57  ...   24.6800   \n",
       "10         -0.540541    181.580      195.81     197.80  ...   24.7200   \n",
       "11          9.202899    196.570      196.69     206.39  ...   24.0300   \n",
       "..               ...        ...         ...        ...  ...       ...   \n",
       "169        17.278148    193.490      186.98     201.20  ...  412.2100   \n",
       "170        -7.739044    189.285      178.50     190.60  ...  385.5800   \n",
       "171        22.194199    177.550      186.33     195.37  ...  400.8000   \n",
       "172        -4.502542    184.900      186.40     195.61  ...  406.3000   \n",
       "173        38.146888    199.000      207.89     215.90  ...  405.5713   \n",
       "\n",
       "     msft_volume  msft_pct_change  aapl_open  aapl_close  aapl_high  aapl_low  \\\n",
       "7     1361258700        -0.662845    325.640    339.3200     348.60  324.8365   \n",
       "8     1114368500        -4.129847    341.300    353.2100     364.90  337.7200   \n",
       "9     1310885200        -4.477050    355.470    348.5075     361.67  326.2600   \n",
       "10    1313844800         2.087436    351.110    350.1300     355.13  320.1600   \n",
       "11    1364062800        -3.510802    349.740    347.8300     351.83  329.4200   \n",
       "..           ...              ...        ...         ...        ...       ...   \n",
       "169    440446499        -6.398926    212.090    222.0800     237.23  211.9200   \n",
       "170    451919023        -0.289232    224.370    229.0000     232.92  196.0000   \n",
       "171    376719438         3.154816    228.550    233.0000     233.09  213.9200   \n",
       "172    440766715        -5.565884    229.520    225.9100     237.49  221.3300   \n",
       "173    421969692         4.210656    220.965    237.3300     237.81  219.7100   \n",
       "\n",
       "     aapl_volume  aapl_pct_change  year_id  \n",
       "7      387197700         5.195933     2011  \n",
       "8      331998200         4.093481     2011  \n",
       "9      403802100        -1.331361     2011  \n",
       "10     330493900         0.465557     2011  \n",
       "11     246859300        -0.656899     2011  \n",
       "..           ...              ...      ...  \n",
       "169   1153193377         5.441079     2024  \n",
       "170   1122666993         3.115994     2024  \n",
       "171   1231814423         1.746725     2024  \n",
       "172    930835961        -3.042918     2024  \n",
       "173    855495560         5.055110     2024  \n",
       "\n",
       "[167 rows x 32 columns]"
      ]
     },
     "execution_count": 68,
     "metadata": {},
     "output_type": "execute_result"
    }
   ],
   "source": [
    "df = merged_mthly_data\n",
    "df"
   ]
  },
  {
   "cell_type": "code",
   "execution_count": 69,
   "metadata": {},
   "outputs": [
    {
     "data": {
      "text/html": [
       "<div>\n",
       "<style scoped>\n",
       "    .dataframe tbody tr th:only-of-type {\n",
       "        vertical-align: middle;\n",
       "    }\n",
       "\n",
       "    .dataframe tbody tr th {\n",
       "        vertical-align: top;\n",
       "    }\n",
       "\n",
       "    .dataframe thead th {\n",
       "        text-align: right;\n",
       "    }\n",
       "</style>\n",
       "<table border=\"1\" class=\"dataframe\">\n",
       "  <thead>\n",
       "    <tr style=\"text-align: right;\">\n",
       "      <th></th>\n",
       "      <th>year_id</th>\n",
       "      <th>mth_id</th>\n",
       "      <th>company</th>\n",
       "      <th>close_price</th>\n",
       "      <th>open_price</th>\n",
       "      <th>high_price</th>\n",
       "      <th>low_price</th>\n",
       "      <th>volume</th>\n",
       "      <th>pct_change</th>\n",
       "    </tr>\n",
       "  </thead>\n",
       "  <tbody>\n",
       "    <tr>\n",
       "      <th>0</th>\n",
       "      <td>2011</td>\n",
       "      <td>201101</td>\n",
       "      <td>tsla</td>\n",
       "      <td>24.10</td>\n",
       "      <td>26.840</td>\n",
       "      <td>28.71</td>\n",
       "      <td>22.37</td>\n",
       "      <td>28420100</td>\n",
       "      <td>-9.500563</td>\n",
       "    </tr>\n",
       "    <tr>\n",
       "      <th>1</th>\n",
       "      <td>2011</td>\n",
       "      <td>201102</td>\n",
       "      <td>tsla</td>\n",
       "      <td>23.89</td>\n",
       "      <td>24.310</td>\n",
       "      <td>25.49</td>\n",
       "      <td>21.11</td>\n",
       "      <td>29303500</td>\n",
       "      <td>-0.871369</td>\n",
       "    </tr>\n",
       "    <tr>\n",
       "      <th>2</th>\n",
       "      <td>2011</td>\n",
       "      <td>201103</td>\n",
       "      <td>tsla</td>\n",
       "      <td>27.75</td>\n",
       "      <td>24.050</td>\n",
       "      <td>28.71</td>\n",
       "      <td>21.77</td>\n",
       "      <td>32563300</td>\n",
       "      <td>16.157388</td>\n",
       "    </tr>\n",
       "    <tr>\n",
       "      <th>3</th>\n",
       "      <td>2011</td>\n",
       "      <td>201104</td>\n",
       "      <td>tsla</td>\n",
       "      <td>27.60</td>\n",
       "      <td>27.450</td>\n",
       "      <td>28.18</td>\n",
       "      <td>24.20</td>\n",
       "      <td>29894900</td>\n",
       "      <td>-0.540541</td>\n",
       "    </tr>\n",
       "    <tr>\n",
       "      <th>4</th>\n",
       "      <td>2011</td>\n",
       "      <td>201105</td>\n",
       "      <td>tsla</td>\n",
       "      <td>30.14</td>\n",
       "      <td>27.600</td>\n",
       "      <td>30.28</td>\n",
       "      <td>25.52</td>\n",
       "      <td>30348800</td>\n",
       "      <td>9.202899</td>\n",
       "    </tr>\n",
       "    <tr>\n",
       "      <th>...</th>\n",
       "      <td>...</td>\n",
       "      <td>...</td>\n",
       "      <td>...</td>\n",
       "      <td>...</td>\n",
       "      <td>...</td>\n",
       "      <td>...</td>\n",
       "      <td>...</td>\n",
       "      <td>...</td>\n",
       "      <td>...</td>\n",
       "    </tr>\n",
       "    <tr>\n",
       "      <th>830</th>\n",
       "      <td>2024</td>\n",
       "      <td>202407</td>\n",
       "      <td>aapl</td>\n",
       "      <td>222.08</td>\n",
       "      <td>212.090</td>\n",
       "      <td>237.23</td>\n",
       "      <td>211.92</td>\n",
       "      <td>1153193377</td>\n",
       "      <td>5.441079</td>\n",
       "    </tr>\n",
       "    <tr>\n",
       "      <th>831</th>\n",
       "      <td>2024</td>\n",
       "      <td>202408</td>\n",
       "      <td>aapl</td>\n",
       "      <td>229.00</td>\n",
       "      <td>224.370</td>\n",
       "      <td>232.92</td>\n",
       "      <td>196.00</td>\n",
       "      <td>1122666993</td>\n",
       "      <td>3.115994</td>\n",
       "    </tr>\n",
       "    <tr>\n",
       "      <th>832</th>\n",
       "      <td>2024</td>\n",
       "      <td>202409</td>\n",
       "      <td>aapl</td>\n",
       "      <td>233.00</td>\n",
       "      <td>228.550</td>\n",
       "      <td>233.09</td>\n",
       "      <td>213.92</td>\n",
       "      <td>1231814423</td>\n",
       "      <td>1.746725</td>\n",
       "    </tr>\n",
       "    <tr>\n",
       "      <th>833</th>\n",
       "      <td>2024</td>\n",
       "      <td>202410</td>\n",
       "      <td>aapl</td>\n",
       "      <td>225.91</td>\n",
       "      <td>229.520</td>\n",
       "      <td>237.49</td>\n",
       "      <td>221.33</td>\n",
       "      <td>930835961</td>\n",
       "      <td>-3.042918</td>\n",
       "    </tr>\n",
       "    <tr>\n",
       "      <th>834</th>\n",
       "      <td>2024</td>\n",
       "      <td>202411</td>\n",
       "      <td>aapl</td>\n",
       "      <td>237.33</td>\n",
       "      <td>220.965</td>\n",
       "      <td>237.81</td>\n",
       "      <td>219.71</td>\n",
       "      <td>855495560</td>\n",
       "      <td>5.055110</td>\n",
       "    </tr>\n",
       "  </tbody>\n",
       "</table>\n",
       "<p>835 rows × 9 columns</p>\n",
       "</div>"
      ],
      "text/plain": [
       "     year_id  mth_id company  close_price  open_price  high_price  low_price  \\\n",
       "0       2011  201101    tsla        24.10      26.840       28.71      22.37   \n",
       "1       2011  201102    tsla        23.89      24.310       25.49      21.11   \n",
       "2       2011  201103    tsla        27.75      24.050       28.71      21.77   \n",
       "3       2011  201104    tsla        27.60      27.450       28.18      24.20   \n",
       "4       2011  201105    tsla        30.14      27.600       30.28      25.52   \n",
       "..       ...     ...     ...          ...         ...         ...        ...   \n",
       "830     2024  202407    aapl       222.08     212.090      237.23     211.92   \n",
       "831     2024  202408    aapl       229.00     224.370      232.92     196.00   \n",
       "832     2024  202409    aapl       233.00     228.550      233.09     213.92   \n",
       "833     2024  202410    aapl       225.91     229.520      237.49     221.33   \n",
       "834     2024  202411    aapl       237.33     220.965      237.81     219.71   \n",
       "\n",
       "         volume  pct_change  \n",
       "0      28420100   -9.500563  \n",
       "1      29303500   -0.871369  \n",
       "2      32563300   16.157388  \n",
       "3      29894900   -0.540541  \n",
       "4      30348800    9.202899  \n",
       "..          ...         ...  \n",
       "830  1153193377    5.441079  \n",
       "831  1122666993    3.115994  \n",
       "832  1231814423    1.746725  \n",
       "833   930835961   -3.042918  \n",
       "834   855495560    5.055110  \n",
       "\n",
       "[835 rows x 9 columns]"
      ]
     },
     "execution_count": 69,
     "metadata": {},
     "output_type": "execute_result"
    }
   ],
   "source": [
    "df1 = pd.melt(\n",
    "    df,\n",
    "    id_vars = ['year_id', 'mth_id'],\n",
    "    value_vars = df.filter(like='_close').columns,\n",
    "    var_name = 'company',\n",
    "    value_name = 'close_price'\n",
    ")\n",
    "df1['company'] = df1['company'].str.replace('_close','')\n",
    "\n",
    "df2 = pd.melt(\n",
    "    df,\n",
    "    id_vars = ['year_id', 'mth_id'],\n",
    "    value_vars = df.filter(like='_open').columns,\n",
    "    var_name = 'company',\n",
    "    value_name = 'open_price'\n",
    ")\n",
    "df2['company'] = df2['company'].str.replace('_open','')\n",
    "df3 = pd.melt(\n",
    "    df,\n",
    "    id_vars = ['year_id', 'mth_id'],\n",
    "    value_vars = df.filter(like='_high').columns,\n",
    "    var_name = 'company',\n",
    "    value_name = 'high_price'\n",
    ")\n",
    "df3['company'] = df3['company'].str.replace('_high','')\n",
    "\n",
    "\n",
    "df4 = pd.melt(\n",
    "    df,\n",
    "    id_vars = ['year_id', 'mth_id'],\n",
    "    value_vars = df.filter(like='_low').columns,\n",
    "    var_name = 'company',\n",
    "    value_name = 'low_price'\n",
    ")\n",
    "df4['company'] = df4['company'].str.replace('_low','')\n",
    "\n",
    "\n",
    "df5 = pd.melt(\n",
    "    df,\n",
    "    id_vars = ['year_id', 'mth_id'],\n",
    "    value_vars = df.filter(like='_volume').columns,\n",
    "    var_name = 'company',\n",
    "    value_name = 'volume'\n",
    ")\n",
    "df5['company'] = df5['company'].str.replace('_volume','')\n",
    "\n",
    "\n",
    "df6 = pd.melt(\n",
    "    df,\n",
    "    id_vars = ['year_id', 'mth_id'],\n",
    "    value_vars = df.filter(like='_pct_change').columns,\n",
    "    var_name = 'company',\n",
    "    value_name = 'pct_change'\n",
    ")\n",
    "df6['company'] = df6['company'].str.replace('_pct_change','')\n",
    "\n",
    "\n",
    "df_result = reduce(lambda left, right: pd.merge(left, right, on=['year_id','mth_id','company']),\n",
    "                   [df1, df2, df3, df4, df5, df6])\n",
    "\n",
    "del df1\n",
    "del df2 \n",
    "del df3\n",
    "del df4\n",
    "del df5 \n",
    "del df6\n",
    "\n",
    "df_result"
   ]
  },
  {
   "cell_type": "code",
   "execution_count": 70,
   "metadata": {},
   "outputs": [
    {
     "data": {
      "application/vnd.jupyter.widget-view+json": {
       "model_id": "5d01ec4b9e014fcbb544ea3b588c4cc7",
       "version_major": 2,
       "version_minor": 0
      },
      "text/plain": [
       "interactive(children=(Dropdown(description='Grp_var', index=1, options=('year_id', 'mth_id', 'company', 'close…"
      ]
     },
     "metadata": {},
     "output_type": "display_data"
    }
   ],
   "source": [
    "import matplotlib.pyplot as plt\n",
    "import seaborn as sns\n",
    "from ipywidgets import widgets, interactive, fixed\n",
    "\n",
    "# Widgets\n",
    "Variable1 = widgets.Dropdown(\n",
    "    options=list(df_result.columns),\n",
    "    value='mth_id',\n",
    "    description='Grp_var',\n",
    ")\n",
    "\n",
    "Variable4 = widgets.Dropdown(\n",
    "    options=list(df_result.columns),\n",
    "    value='close_price', \n",
    "    description='Column',\n",
    ")\n",
    "\n",
    "Variable2 = widgets.Dropdown(\n",
    "    options=['no_agg_fun', 'min', 'max', 'first', 'last', 'sum', 'mean'],\n",
    "    value='mean',\n",
    "    description='agg_functions',\n",
    ")\n",
    "\n",
    "Variable3 = widgets.Dropdown(\n",
    "    options=['all_year'] + list(df_result['year_id'].unique()),\n",
    "    value='all_year',\n",
    "    description='Year',\n",
    ")\n",
    "\n",
    "Variable5 = widgets.SelectMultiple(\n",
    "    options=['all_company'] + list(df_result['company'].unique()),\n",
    "    value=('all_company',),\n",
    "    description='Company',\n",
    "    style={'description_width': 'initial'},\n",
    ")\n",
    "\n",
    "# Updated plotting function\n",
    "def plot_sales_trend(df, grp_var, col_name, agg_fun, year_id, company_name):\n",
    "    if year_id != 'all_year':\n",
    "        df = df[df['year_id'] == year_id]\n",
    "    \n",
    "    if 'all_company' in company_name:\n",
    "        companies_to_plot = df['company'].unique()\n",
    "    else:\n",
    "        companies_to_plot = company_name\n",
    "    \n",
    "    sns.set(style=\"whitegrid\")\n",
    "    plt.figure(figsize=(14, 8))  \n",
    "    \n",
    "    colors = sns.color_palette(\"husl\", len(companies_to_plot))  \n",
    "    \n",
    "    # Plot each company\n",
    "    for idx, company in enumerate(companies_to_plot):\n",
    "        company_data = df[df['company'] == company]\n",
    "        if agg_fun != 'no_agg_fun':\n",
    "            grp_df = company_data.groupby(grp_var, as_index=False)[col_name].agg(agg_fun)\n",
    "        else:\n",
    "            grp_df = company_data[[grp_var, col_name]].drop_duplicates()\n",
    "        \n",
    "        plt.plot(\n",
    "            grp_df[grp_var], \n",
    "            grp_df[col_name], \n",
    "            label=company,\n",
    "            marker='o', \n",
    "            linestyle='-', \n",
    "            color=colors[idx], \n",
    "            linewidth=2,  \n",
    "            markersize=6  \n",
    "        )\n",
    "    \n",
    "    plt.title(f\"Sales Trend ({agg_fun} of {col_name}) for Year {year_id}\", fontsize=18, fontweight='bold')\n",
    "    plt.xlabel(grp_var, fontsize=14, fontweight='bold')\n",
    "    plt.ylabel(col_name, fontsize=14, fontweight='bold')\n",
    "    \n",
    "    plt.grid(True, which='both', linestyle='--', linewidth=0.7, color='gray', alpha=0.7)\n",
    "    plt.xticks(rotation=45, fontsize=12)\n",
    "    plt.yticks(fontsize=12)\n",
    "    plt.legend(title=\"Companies\", fontsize=12, title_fontsize='13', loc='upper left', bbox_to_anchor=(1, 1))\n",
    "    plt.tight_layout()  \n",
    "    plt.show()\n",
    "\n",
    "\n",
    "# Fix the DataFrame for the interactive chart\n",
    "class fixed_copy(fixed):\n",
    "    def get_interact_value(self):\n",
    "        return self.value.copy()\n",
    "\n",
    "# Interactive widget\n",
    "interactive_plot = interactive(\n",
    "    plot_sales_trend,\n",
    "    df=fixed_copy(df_result),\n",
    "    grp_var=Variable1,\n",
    "    col_name=Variable4,\n",
    "    agg_fun=Variable2,\n",
    "    year_id=Variable3,\n",
    "    company_name=Variable5\n",
    ")\n",
    "\n",
    "interactive_plot\n"
   ]
  },
  {
   "cell_type": "markdown",
   "metadata": {},
   "source": [
    "## Final Chart"
   ]
  },
  {
   "cell_type": "code",
   "execution_count": 74,
   "metadata": {},
   "outputs": [
    {
     "data": {
      "application/vnd.plotly.v1+json": {
       "config": {
        "plotlyServerURL": "https://plot.ly"
       },
       "data": [
        {
         "hovertemplate": "Company=aapl<br>Year=%{x}<br>Normalized Closing Price (%)=%{y}<extra></extra>",
         "legendgroup": "aapl",
         "line": {
          "color": "rgb(204, 121, 244)",
          "dash": "solid"
         },
         "marker": {
          "symbol": "circle"
         },
         "mode": "lines+markers",
         "name": "aapl",
         "orientation": "v",
         "showlegend": true,
         "type": "scatter",
         "x": [
          2011,
          2012,
          2013,
          2014,
          2015,
          2016,
          2017,
          2018,
          2019,
          2020,
          2021,
          2022,
          2023,
          2024
         ],
         "xaxis": "x",
         "y": [
          100,
          131.40071604938274,
          138.52345679012345,
          27.254320987654317,
          25.990123456790126,
          28.59753086419753,
          41.78518518518518,
          38.94814814814815,
          72.50617283950616,
          32.76296296296296,
          43.84444444444444,
          32.08148148148148,
          47.538271604938274,
          58.60000000000001
         ],
         "yaxis": "y"
        },
        {
         "hovertemplate": "Company=amzn<br>Year=%{x}<br>Normalized Closing Price (%)=%{y}<extra></extra>",
         "legendgroup": "amzn",
         "line": {
          "color": "rgb(173, 156, 49)",
          "dash": "solid"
         },
         "marker": {
          "symbol": "circle"
         },
         "mode": "lines+markers",
         "name": "amzn",
         "orientation": "v",
         "showlegend": true,
         "type": "scatter",
         "x": [
          2011,
          2012,
          2013,
          2014,
          2015,
          2016,
          2017,
          2018,
          2019,
          2020,
          2021,
          2022,
          2023,
          2024
         ],
         "xaxis": "x",
         "y": [
          100,
          144.92778740612366,
          230.38128249566725,
          179.2894280762565,
          390.4621606008088,
          433.2004621606008,
          675.6036972848065,
          867.6891969959561,
          1067.4985557481225,
          1881.5309069901791,
          1926.250722125939,
          48.52686308492201,
          87.77585210860775,
          120.09820912767186
         ],
         "yaxis": "y"
        },
        {
         "hovertemplate": "Company=ibm<br>Year=%{x}<br>Normalized Closing Price (%)=%{y}<extra></extra>",
         "legendgroup": "ibm",
         "line": {
          "color": "rgb(51, 176, 122)",
          "dash": "solid"
         },
         "marker": {
          "symbol": "circle"
         },
         "mode": "lines+markers",
         "name": "ibm",
         "orientation": "v",
         "showlegend": true,
         "type": "scatter",
         "x": [
          2011,
          2012,
          2013,
          2014,
          2015,
          2016,
          2017,
          2018,
          2019,
          2020,
          2021,
          2022,
          2023,
          2024
         ],
         "xaxis": "x",
         "y": [
          100,
          104.1711986077877,
          102.00674352838807,
          87.25255601479226,
          74.84228844898847,
          90.27082880139223,
          83.4348488144442,
          61.81748966717424,
          72.89536654339787,
          68.45768979769414,
          72.68871002827932,
          76.62062214487709,
          88.94387644115729,
          123.67304763976506
         ],
         "yaxis": "y"
        },
        {
         "hovertemplate": "Company=msft<br>Year=%{x}<br>Normalized Closing Price (%)=%{y}<extra></extra>",
         "legendgroup": "msft",
         "line": {
          "color": "rgb(56, 168, 197)",
          "dash": "solid"
         },
         "marker": {
          "symbol": "circle"
         },
         "mode": "lines+markers",
         "name": "msft",
         "orientation": "v",
         "showlegend": true,
         "type": "scatter",
         "x": [
          2011,
          2012,
          2013,
          2014,
          2015,
          2016,
          2017,
          2018,
          2019,
          2020,
          2021,
          2022,
          2023,
          2024
         ],
         "xaxis": "x",
         "y": [
          100,
          102.88790446841294,
          144.10631741140213,
          178.9291217257319,
          213.71340523882893,
          239.3682588597843,
          329.5069337442219,
          391.25577812018486,
          607.4730354391371,
          856.7796610169491,
          1295.5315870570107,
          923.8058551617873,
          1448.5362095531586,
          1631.2018489984591
         ],
         "yaxis": "y"
        },
        {
         "hovertemplate": "Company=tsla<br>Year=%{x}<br>Normalized Closing Price (%)=%{y}<extra></extra>",
         "legendgroup": "tsla",
         "line": {
          "color": "rgb(246, 112, 136)",
          "dash": "solid"
         },
         "marker": {
          "symbol": "circle"
         },
         "mode": "lines+markers",
         "name": "tsla",
         "orientation": "v",
         "showlegend": true,
         "type": "scatter",
         "x": [
          2011,
          2012,
          2013,
          2014,
          2015,
          2016,
          2017,
          2018,
          2019,
          2020,
          2021,
          2022,
          2023,
          2024
         ],
         "xaxis": "x",
         "y": [
          100,
          118.59243697478992,
          526.7121848739496,
          778.7464985994399,
          840.3711484593838,
          748.2142857142858,
          1090.1610644257705,
          1165.2661064425772,
          1464.7408963585435,
          2470.833333333333,
          3700.2100840336134,
          431.3025210084034,
          870.0280112044817,
          1208.5434173669469
         ],
         "yaxis": "y"
        }
       ],
       "layout": {
        "height": 600,
        "hovermode": "x unified",
        "legend": {
         "title": {
          "font": {
           "color": "black",
           "family": "Arial",
           "size": 14,
           "weight": "bold"
          },
          "text": "Company"
         },
         "tracegroupgap": 0
        },
        "paper_bgcolor": "white",
        "plot_bgcolor": "white",
        "shapes": [
         {
          "line": {
           "color": "black",
           "width": 0.1
          },
          "type": "rect",
          "x0": 0,
          "x1": 1,
          "xref": "paper",
          "y0": 0,
          "y1": 1,
          "yref": "paper"
         }
        ],
        "template": {
         "data": {
          "bar": [
           {
            "error_x": {
             "color": "#2a3f5f"
            },
            "error_y": {
             "color": "#2a3f5f"
            },
            "marker": {
             "line": {
              "color": "#E5ECF6",
              "width": 0.5
             },
             "pattern": {
              "fillmode": "overlay",
              "size": 10,
              "solidity": 0.2
             }
            },
            "type": "bar"
           }
          ],
          "barpolar": [
           {
            "marker": {
             "line": {
              "color": "#E5ECF6",
              "width": 0.5
             },
             "pattern": {
              "fillmode": "overlay",
              "size": 10,
              "solidity": 0.2
             }
            },
            "type": "barpolar"
           }
          ],
          "carpet": [
           {
            "aaxis": {
             "endlinecolor": "#2a3f5f",
             "gridcolor": "white",
             "linecolor": "white",
             "minorgridcolor": "white",
             "startlinecolor": "#2a3f5f"
            },
            "baxis": {
             "endlinecolor": "#2a3f5f",
             "gridcolor": "white",
             "linecolor": "white",
             "minorgridcolor": "white",
             "startlinecolor": "#2a3f5f"
            },
            "type": "carpet"
           }
          ],
          "choropleth": [
           {
            "colorbar": {
             "outlinewidth": 0,
             "ticks": ""
            },
            "type": "choropleth"
           }
          ],
          "contour": [
           {
            "colorbar": {
             "outlinewidth": 0,
             "ticks": ""
            },
            "colorscale": [
             [
              0,
              "#0d0887"
             ],
             [
              0.1111111111111111,
              "#46039f"
             ],
             [
              0.2222222222222222,
              "#7201a8"
             ],
             [
              0.3333333333333333,
              "#9c179e"
             ],
             [
              0.4444444444444444,
              "#bd3786"
             ],
             [
              0.5555555555555556,
              "#d8576b"
             ],
             [
              0.6666666666666666,
              "#ed7953"
             ],
             [
              0.7777777777777778,
              "#fb9f3a"
             ],
             [
              0.8888888888888888,
              "#fdca26"
             ],
             [
              1,
              "#f0f921"
             ]
            ],
            "type": "contour"
           }
          ],
          "contourcarpet": [
           {
            "colorbar": {
             "outlinewidth": 0,
             "ticks": ""
            },
            "type": "contourcarpet"
           }
          ],
          "heatmap": [
           {
            "colorbar": {
             "outlinewidth": 0,
             "ticks": ""
            },
            "colorscale": [
             [
              0,
              "#0d0887"
             ],
             [
              0.1111111111111111,
              "#46039f"
             ],
             [
              0.2222222222222222,
              "#7201a8"
             ],
             [
              0.3333333333333333,
              "#9c179e"
             ],
             [
              0.4444444444444444,
              "#bd3786"
             ],
             [
              0.5555555555555556,
              "#d8576b"
             ],
             [
              0.6666666666666666,
              "#ed7953"
             ],
             [
              0.7777777777777778,
              "#fb9f3a"
             ],
             [
              0.8888888888888888,
              "#fdca26"
             ],
             [
              1,
              "#f0f921"
             ]
            ],
            "type": "heatmap"
           }
          ],
          "heatmapgl": [
           {
            "colorbar": {
             "outlinewidth": 0,
             "ticks": ""
            },
            "colorscale": [
             [
              0,
              "#0d0887"
             ],
             [
              0.1111111111111111,
              "#46039f"
             ],
             [
              0.2222222222222222,
              "#7201a8"
             ],
             [
              0.3333333333333333,
              "#9c179e"
             ],
             [
              0.4444444444444444,
              "#bd3786"
             ],
             [
              0.5555555555555556,
              "#d8576b"
             ],
             [
              0.6666666666666666,
              "#ed7953"
             ],
             [
              0.7777777777777778,
              "#fb9f3a"
             ],
             [
              0.8888888888888888,
              "#fdca26"
             ],
             [
              1,
              "#f0f921"
             ]
            ],
            "type": "heatmapgl"
           }
          ],
          "histogram": [
           {
            "marker": {
             "pattern": {
              "fillmode": "overlay",
              "size": 10,
              "solidity": 0.2
             }
            },
            "type": "histogram"
           }
          ],
          "histogram2d": [
           {
            "colorbar": {
             "outlinewidth": 0,
             "ticks": ""
            },
            "colorscale": [
             [
              0,
              "#0d0887"
             ],
             [
              0.1111111111111111,
              "#46039f"
             ],
             [
              0.2222222222222222,
              "#7201a8"
             ],
             [
              0.3333333333333333,
              "#9c179e"
             ],
             [
              0.4444444444444444,
              "#bd3786"
             ],
             [
              0.5555555555555556,
              "#d8576b"
             ],
             [
              0.6666666666666666,
              "#ed7953"
             ],
             [
              0.7777777777777778,
              "#fb9f3a"
             ],
             [
              0.8888888888888888,
              "#fdca26"
             ],
             [
              1,
              "#f0f921"
             ]
            ],
            "type": "histogram2d"
           }
          ],
          "histogram2dcontour": [
           {
            "colorbar": {
             "outlinewidth": 0,
             "ticks": ""
            },
            "colorscale": [
             [
              0,
              "#0d0887"
             ],
             [
              0.1111111111111111,
              "#46039f"
             ],
             [
              0.2222222222222222,
              "#7201a8"
             ],
             [
              0.3333333333333333,
              "#9c179e"
             ],
             [
              0.4444444444444444,
              "#bd3786"
             ],
             [
              0.5555555555555556,
              "#d8576b"
             ],
             [
              0.6666666666666666,
              "#ed7953"
             ],
             [
              0.7777777777777778,
              "#fb9f3a"
             ],
             [
              0.8888888888888888,
              "#fdca26"
             ],
             [
              1,
              "#f0f921"
             ]
            ],
            "type": "histogram2dcontour"
           }
          ],
          "mesh3d": [
           {
            "colorbar": {
             "outlinewidth": 0,
             "ticks": ""
            },
            "type": "mesh3d"
           }
          ],
          "parcoords": [
           {
            "line": {
             "colorbar": {
              "outlinewidth": 0,
              "ticks": ""
             }
            },
            "type": "parcoords"
           }
          ],
          "pie": [
           {
            "automargin": true,
            "type": "pie"
           }
          ],
          "scatter": [
           {
            "fillpattern": {
             "fillmode": "overlay",
             "size": 10,
             "solidity": 0.2
            },
            "type": "scatter"
           }
          ],
          "scatter3d": [
           {
            "line": {
             "colorbar": {
              "outlinewidth": 0,
              "ticks": ""
             }
            },
            "marker": {
             "colorbar": {
              "outlinewidth": 0,
              "ticks": ""
             }
            },
            "type": "scatter3d"
           }
          ],
          "scattercarpet": [
           {
            "marker": {
             "colorbar": {
              "outlinewidth": 0,
              "ticks": ""
             }
            },
            "type": "scattercarpet"
           }
          ],
          "scattergeo": [
           {
            "marker": {
             "colorbar": {
              "outlinewidth": 0,
              "ticks": ""
             }
            },
            "type": "scattergeo"
           }
          ],
          "scattergl": [
           {
            "marker": {
             "colorbar": {
              "outlinewidth": 0,
              "ticks": ""
             }
            },
            "type": "scattergl"
           }
          ],
          "scattermapbox": [
           {
            "marker": {
             "colorbar": {
              "outlinewidth": 0,
              "ticks": ""
             }
            },
            "type": "scattermapbox"
           }
          ],
          "scatterpolar": [
           {
            "marker": {
             "colorbar": {
              "outlinewidth": 0,
              "ticks": ""
             }
            },
            "type": "scatterpolar"
           }
          ],
          "scatterpolargl": [
           {
            "marker": {
             "colorbar": {
              "outlinewidth": 0,
              "ticks": ""
             }
            },
            "type": "scatterpolargl"
           }
          ],
          "scatterternary": [
           {
            "marker": {
             "colorbar": {
              "outlinewidth": 0,
              "ticks": ""
             }
            },
            "type": "scatterternary"
           }
          ],
          "surface": [
           {
            "colorbar": {
             "outlinewidth": 0,
             "ticks": ""
            },
            "colorscale": [
             [
              0,
              "#0d0887"
             ],
             [
              0.1111111111111111,
              "#46039f"
             ],
             [
              0.2222222222222222,
              "#7201a8"
             ],
             [
              0.3333333333333333,
              "#9c179e"
             ],
             [
              0.4444444444444444,
              "#bd3786"
             ],
             [
              0.5555555555555556,
              "#d8576b"
             ],
             [
              0.6666666666666666,
              "#ed7953"
             ],
             [
              0.7777777777777778,
              "#fb9f3a"
             ],
             [
              0.8888888888888888,
              "#fdca26"
             ],
             [
              1,
              "#f0f921"
             ]
            ],
            "type": "surface"
           }
          ],
          "table": [
           {
            "cells": {
             "fill": {
              "color": "#EBF0F8"
             },
             "line": {
              "color": "white"
             }
            },
            "header": {
             "fill": {
              "color": "#C8D4E3"
             },
             "line": {
              "color": "white"
             }
            },
            "type": "table"
           }
          ]
         },
         "layout": {
          "annotationdefaults": {
           "arrowcolor": "#2a3f5f",
           "arrowhead": 0,
           "arrowwidth": 1
          },
          "autotypenumbers": "strict",
          "coloraxis": {
           "colorbar": {
            "outlinewidth": 0,
            "ticks": ""
           }
          },
          "colorscale": {
           "diverging": [
            [
             0,
             "#8e0152"
            ],
            [
             0.1,
             "#c51b7d"
            ],
            [
             0.2,
             "#de77ae"
            ],
            [
             0.3,
             "#f1b6da"
            ],
            [
             0.4,
             "#fde0ef"
            ],
            [
             0.5,
             "#f7f7f7"
            ],
            [
             0.6,
             "#e6f5d0"
            ],
            [
             0.7,
             "#b8e186"
            ],
            [
             0.8,
             "#7fbc41"
            ],
            [
             0.9,
             "#4d9221"
            ],
            [
             1,
             "#276419"
            ]
           ],
           "sequential": [
            [
             0,
             "#0d0887"
            ],
            [
             0.1111111111111111,
             "#46039f"
            ],
            [
             0.2222222222222222,
             "#7201a8"
            ],
            [
             0.3333333333333333,
             "#9c179e"
            ],
            [
             0.4444444444444444,
             "#bd3786"
            ],
            [
             0.5555555555555556,
             "#d8576b"
            ],
            [
             0.6666666666666666,
             "#ed7953"
            ],
            [
             0.7777777777777778,
             "#fb9f3a"
            ],
            [
             0.8888888888888888,
             "#fdca26"
            ],
            [
             1,
             "#f0f921"
            ]
           ],
           "sequentialminus": [
            [
             0,
             "#0d0887"
            ],
            [
             0.1111111111111111,
             "#46039f"
            ],
            [
             0.2222222222222222,
             "#7201a8"
            ],
            [
             0.3333333333333333,
             "#9c179e"
            ],
            [
             0.4444444444444444,
             "#bd3786"
            ],
            [
             0.5555555555555556,
             "#d8576b"
            ],
            [
             0.6666666666666666,
             "#ed7953"
            ],
            [
             0.7777777777777778,
             "#fb9f3a"
            ],
            [
             0.8888888888888888,
             "#fdca26"
            ],
            [
             1,
             "#f0f921"
            ]
           ]
          },
          "colorway": [
           "#636efa",
           "#EF553B",
           "#00cc96",
           "#ab63fa",
           "#FFA15A",
           "#19d3f3",
           "#FF6692",
           "#B6E880",
           "#FF97FF",
           "#FECB52"
          ],
          "font": {
           "color": "#2a3f5f"
          },
          "geo": {
           "bgcolor": "white",
           "lakecolor": "white",
           "landcolor": "#E5ECF6",
           "showlakes": true,
           "showland": true,
           "subunitcolor": "white"
          },
          "hoverlabel": {
           "align": "left"
          },
          "hovermode": "closest",
          "mapbox": {
           "style": "light"
          },
          "paper_bgcolor": "white",
          "plot_bgcolor": "#E5ECF6",
          "polar": {
           "angularaxis": {
            "gridcolor": "white",
            "linecolor": "white",
            "ticks": ""
           },
           "bgcolor": "#E5ECF6",
           "radialaxis": {
            "gridcolor": "white",
            "linecolor": "white",
            "ticks": ""
           }
          },
          "scene": {
           "xaxis": {
            "backgroundcolor": "#E5ECF6",
            "gridcolor": "white",
            "gridwidth": 2,
            "linecolor": "white",
            "showbackground": true,
            "ticks": "",
            "zerolinecolor": "white"
           },
           "yaxis": {
            "backgroundcolor": "#E5ECF6",
            "gridcolor": "white",
            "gridwidth": 2,
            "linecolor": "white",
            "showbackground": true,
            "ticks": "",
            "zerolinecolor": "white"
           },
           "zaxis": {
            "backgroundcolor": "#E5ECF6",
            "gridcolor": "white",
            "gridwidth": 2,
            "linecolor": "white",
            "showbackground": true,
            "ticks": "",
            "zerolinecolor": "white"
           }
          },
          "shapedefaults": {
           "line": {
            "color": "#2a3f5f"
           }
          },
          "ternary": {
           "aaxis": {
            "gridcolor": "white",
            "linecolor": "white",
            "ticks": ""
           },
           "baxis": {
            "gridcolor": "white",
            "linecolor": "white",
            "ticks": ""
           },
           "bgcolor": "#E5ECF6",
           "caxis": {
            "gridcolor": "white",
            "linecolor": "white",
            "ticks": ""
           }
          },
          "title": {
           "x": 0.05
          },
          "xaxis": {
           "automargin": true,
           "gridcolor": "white",
           "linecolor": "white",
           "ticks": "",
           "title": {
            "standoff": 15
           },
           "zerolinecolor": "white",
           "zerolinewidth": 2
          },
          "yaxis": {
           "automargin": true,
           "gridcolor": "white",
           "linecolor": "white",
           "ticks": "",
           "title": {
            "standoff": 15
           },
           "zerolinecolor": "white",
           "zerolinewidth": 2
          }
         }
        },
        "title": {
         "font": {
          "color": "black",
          "family": "Arial",
          "size": 20,
          "weight": "bold"
         },
         "text": "Normalized Stock Closing Prices Over Time (Yearly)",
         "x": 0.5
        },
        "width": 1000,
        "xaxis": {
         "anchor": "y",
         "domain": [
          0,
          1
         ],
         "gridcolor": "#E8E8E8",
         "gridwidth": 0.2,
         "title": {
          "font": {
           "color": "black",
           "family": "Arial",
           "size": 16,
           "weight": "bold"
          },
          "text": "Year"
         }
        },
        "yaxis": {
         "anchor": "x",
         "domain": [
          0,
          1
         ],
         "gridcolor": "#E8E8E8",
         "gridwidth": 0.2,
         "title": {
          "font": {
           "color": "black",
           "family": "Arial",
           "size": 16,
           "weight": "bold"
          },
          "text": "Normalized Closing Price (%)"
         }
        }
       }
      },
      "text/html": [
       "<div>                            <div id=\"d633c62c-7ea1-49e0-834d-116639459d33\" class=\"plotly-graph-div\" style=\"height:600px; width:1000px;\"></div>            <script type=\"text/javascript\">                require([\"plotly\"], function(Plotly) {                    window.PLOTLYENV=window.PLOTLYENV || {};                                    if (document.getElementById(\"d633c62c-7ea1-49e0-834d-116639459d33\")) {                    Plotly.newPlot(                        \"d633c62c-7ea1-49e0-834d-116639459d33\",                        [{\"hovertemplate\":\"Company=aapl\\u003cbr\\u003eYear=%{x}\\u003cbr\\u003eNormalized Closing Price (%)=%{y}\\u003cextra\\u003e\\u003c\\u002fextra\\u003e\",\"legendgroup\":\"aapl\",\"line\":{\"color\":\"rgb(204, 121, 244)\",\"dash\":\"solid\"},\"marker\":{\"symbol\":\"circle\"},\"mode\":\"lines+markers\",\"name\":\"aapl\",\"orientation\":\"v\",\"showlegend\":true,\"x\":[2011,2012,2013,2014,2015,2016,2017,2018,2019,2020,2021,2022,2023,2024],\"xaxis\":\"x\",\"y\":[100.0,131.40071604938274,138.52345679012345,27.254320987654317,25.990123456790126,28.59753086419753,41.78518518518518,38.94814814814815,72.50617283950616,32.76296296296296,43.84444444444444,32.08148148148148,47.538271604938274,58.60000000000001],\"yaxis\":\"y\",\"type\":\"scatter\"},{\"hovertemplate\":\"Company=amzn\\u003cbr\\u003eYear=%{x}\\u003cbr\\u003eNormalized Closing Price (%)=%{y}\\u003cextra\\u003e\\u003c\\u002fextra\\u003e\",\"legendgroup\":\"amzn\",\"line\":{\"color\":\"rgb(173, 156, 49)\",\"dash\":\"solid\"},\"marker\":{\"symbol\":\"circle\"},\"mode\":\"lines+markers\",\"name\":\"amzn\",\"orientation\":\"v\",\"showlegend\":true,\"x\":[2011,2012,2013,2014,2015,2016,2017,2018,2019,2020,2021,2022,2023,2024],\"xaxis\":\"x\",\"y\":[100.0,144.92778740612366,230.38128249566725,179.2894280762565,390.4621606008088,433.2004621606008,675.6036972848065,867.6891969959561,1067.4985557481225,1881.5309069901791,1926.250722125939,48.52686308492201,87.77585210860775,120.09820912767186],\"yaxis\":\"y\",\"type\":\"scatter\"},{\"hovertemplate\":\"Company=ibm\\u003cbr\\u003eYear=%{x}\\u003cbr\\u003eNormalized Closing Price (%)=%{y}\\u003cextra\\u003e\\u003c\\u002fextra\\u003e\",\"legendgroup\":\"ibm\",\"line\":{\"color\":\"rgb(51, 176, 122)\",\"dash\":\"solid\"},\"marker\":{\"symbol\":\"circle\"},\"mode\":\"lines+markers\",\"name\":\"ibm\",\"orientation\":\"v\",\"showlegend\":true,\"x\":[2011,2012,2013,2014,2015,2016,2017,2018,2019,2020,2021,2022,2023,2024],\"xaxis\":\"x\",\"y\":[100.0,104.1711986077877,102.00674352838807,87.25255601479226,74.84228844898847,90.27082880139223,83.4348488144442,61.81748966717424,72.89536654339787,68.45768979769414,72.68871002827932,76.62062214487709,88.94387644115729,123.67304763976506],\"yaxis\":\"y\",\"type\":\"scatter\"},{\"hovertemplate\":\"Company=msft\\u003cbr\\u003eYear=%{x}\\u003cbr\\u003eNormalized Closing Price (%)=%{y}\\u003cextra\\u003e\\u003c\\u002fextra\\u003e\",\"legendgroup\":\"msft\",\"line\":{\"color\":\"rgb(56, 168, 197)\",\"dash\":\"solid\"},\"marker\":{\"symbol\":\"circle\"},\"mode\":\"lines+markers\",\"name\":\"msft\",\"orientation\":\"v\",\"showlegend\":true,\"x\":[2011,2012,2013,2014,2015,2016,2017,2018,2019,2020,2021,2022,2023,2024],\"xaxis\":\"x\",\"y\":[100.0,102.88790446841294,144.10631741140213,178.9291217257319,213.71340523882893,239.3682588597843,329.5069337442219,391.25577812018486,607.4730354391371,856.7796610169491,1295.5315870570107,923.8058551617873,1448.5362095531586,1631.2018489984591],\"yaxis\":\"y\",\"type\":\"scatter\"},{\"hovertemplate\":\"Company=tsla\\u003cbr\\u003eYear=%{x}\\u003cbr\\u003eNormalized Closing Price (%)=%{y}\\u003cextra\\u003e\\u003c\\u002fextra\\u003e\",\"legendgroup\":\"tsla\",\"line\":{\"color\":\"rgb(246, 112, 136)\",\"dash\":\"solid\"},\"marker\":{\"symbol\":\"circle\"},\"mode\":\"lines+markers\",\"name\":\"tsla\",\"orientation\":\"v\",\"showlegend\":true,\"x\":[2011,2012,2013,2014,2015,2016,2017,2018,2019,2020,2021,2022,2023,2024],\"xaxis\":\"x\",\"y\":[100.0,118.59243697478992,526.7121848739496,778.7464985994399,840.3711484593838,748.2142857142858,1090.1610644257705,1165.2661064425772,1464.7408963585435,2470.833333333333,3700.2100840336134,431.3025210084034,870.0280112044817,1208.5434173669469],\"yaxis\":\"y\",\"type\":\"scatter\"}],                        {\"template\":{\"data\":{\"histogram2dcontour\":[{\"type\":\"histogram2dcontour\",\"colorbar\":{\"outlinewidth\":0,\"ticks\":\"\"},\"colorscale\":[[0.0,\"#0d0887\"],[0.1111111111111111,\"#46039f\"],[0.2222222222222222,\"#7201a8\"],[0.3333333333333333,\"#9c179e\"],[0.4444444444444444,\"#bd3786\"],[0.5555555555555556,\"#d8576b\"],[0.6666666666666666,\"#ed7953\"],[0.7777777777777778,\"#fb9f3a\"],[0.8888888888888888,\"#fdca26\"],[1.0,\"#f0f921\"]]}],\"choropleth\":[{\"type\":\"choropleth\",\"colorbar\":{\"outlinewidth\":0,\"ticks\":\"\"}}],\"histogram2d\":[{\"type\":\"histogram2d\",\"colorbar\":{\"outlinewidth\":0,\"ticks\":\"\"},\"colorscale\":[[0.0,\"#0d0887\"],[0.1111111111111111,\"#46039f\"],[0.2222222222222222,\"#7201a8\"],[0.3333333333333333,\"#9c179e\"],[0.4444444444444444,\"#bd3786\"],[0.5555555555555556,\"#d8576b\"],[0.6666666666666666,\"#ed7953\"],[0.7777777777777778,\"#fb9f3a\"],[0.8888888888888888,\"#fdca26\"],[1.0,\"#f0f921\"]]}],\"heatmap\":[{\"type\":\"heatmap\",\"colorbar\":{\"outlinewidth\":0,\"ticks\":\"\"},\"colorscale\":[[0.0,\"#0d0887\"],[0.1111111111111111,\"#46039f\"],[0.2222222222222222,\"#7201a8\"],[0.3333333333333333,\"#9c179e\"],[0.4444444444444444,\"#bd3786\"],[0.5555555555555556,\"#d8576b\"],[0.6666666666666666,\"#ed7953\"],[0.7777777777777778,\"#fb9f3a\"],[0.8888888888888888,\"#fdca26\"],[1.0,\"#f0f921\"]]}],\"heatmapgl\":[{\"type\":\"heatmapgl\",\"colorbar\":{\"outlinewidth\":0,\"ticks\":\"\"},\"colorscale\":[[0.0,\"#0d0887\"],[0.1111111111111111,\"#46039f\"],[0.2222222222222222,\"#7201a8\"],[0.3333333333333333,\"#9c179e\"],[0.4444444444444444,\"#bd3786\"],[0.5555555555555556,\"#d8576b\"],[0.6666666666666666,\"#ed7953\"],[0.7777777777777778,\"#fb9f3a\"],[0.8888888888888888,\"#fdca26\"],[1.0,\"#f0f921\"]]}],\"contourcarpet\":[{\"type\":\"contourcarpet\",\"colorbar\":{\"outlinewidth\":0,\"ticks\":\"\"}}],\"contour\":[{\"type\":\"contour\",\"colorbar\":{\"outlinewidth\":0,\"ticks\":\"\"},\"colorscale\":[[0.0,\"#0d0887\"],[0.1111111111111111,\"#46039f\"],[0.2222222222222222,\"#7201a8\"],[0.3333333333333333,\"#9c179e\"],[0.4444444444444444,\"#bd3786\"],[0.5555555555555556,\"#d8576b\"],[0.6666666666666666,\"#ed7953\"],[0.7777777777777778,\"#fb9f3a\"],[0.8888888888888888,\"#fdca26\"],[1.0,\"#f0f921\"]]}],\"surface\":[{\"type\":\"surface\",\"colorbar\":{\"outlinewidth\":0,\"ticks\":\"\"},\"colorscale\":[[0.0,\"#0d0887\"],[0.1111111111111111,\"#46039f\"],[0.2222222222222222,\"#7201a8\"],[0.3333333333333333,\"#9c179e\"],[0.4444444444444444,\"#bd3786\"],[0.5555555555555556,\"#d8576b\"],[0.6666666666666666,\"#ed7953\"],[0.7777777777777778,\"#fb9f3a\"],[0.8888888888888888,\"#fdca26\"],[1.0,\"#f0f921\"]]}],\"mesh3d\":[{\"type\":\"mesh3d\",\"colorbar\":{\"outlinewidth\":0,\"ticks\":\"\"}}],\"scatter\":[{\"fillpattern\":{\"fillmode\":\"overlay\",\"size\":10,\"solidity\":0.2},\"type\":\"scatter\"}],\"parcoords\":[{\"type\":\"parcoords\",\"line\":{\"colorbar\":{\"outlinewidth\":0,\"ticks\":\"\"}}}],\"scatterpolargl\":[{\"type\":\"scatterpolargl\",\"marker\":{\"colorbar\":{\"outlinewidth\":0,\"ticks\":\"\"}}}],\"bar\":[{\"error_x\":{\"color\":\"#2a3f5f\"},\"error_y\":{\"color\":\"#2a3f5f\"},\"marker\":{\"line\":{\"color\":\"#E5ECF6\",\"width\":0.5},\"pattern\":{\"fillmode\":\"overlay\",\"size\":10,\"solidity\":0.2}},\"type\":\"bar\"}],\"scattergeo\":[{\"type\":\"scattergeo\",\"marker\":{\"colorbar\":{\"outlinewidth\":0,\"ticks\":\"\"}}}],\"scatterpolar\":[{\"type\":\"scatterpolar\",\"marker\":{\"colorbar\":{\"outlinewidth\":0,\"ticks\":\"\"}}}],\"histogram\":[{\"marker\":{\"pattern\":{\"fillmode\":\"overlay\",\"size\":10,\"solidity\":0.2}},\"type\":\"histogram\"}],\"scattergl\":[{\"type\":\"scattergl\",\"marker\":{\"colorbar\":{\"outlinewidth\":0,\"ticks\":\"\"}}}],\"scatter3d\":[{\"type\":\"scatter3d\",\"line\":{\"colorbar\":{\"outlinewidth\":0,\"ticks\":\"\"}},\"marker\":{\"colorbar\":{\"outlinewidth\":0,\"ticks\":\"\"}}}],\"scattermapbox\":[{\"type\":\"scattermapbox\",\"marker\":{\"colorbar\":{\"outlinewidth\":0,\"ticks\":\"\"}}}],\"scatterternary\":[{\"type\":\"scatterternary\",\"marker\":{\"colorbar\":{\"outlinewidth\":0,\"ticks\":\"\"}}}],\"scattercarpet\":[{\"type\":\"scattercarpet\",\"marker\":{\"colorbar\":{\"outlinewidth\":0,\"ticks\":\"\"}}}],\"carpet\":[{\"aaxis\":{\"endlinecolor\":\"#2a3f5f\",\"gridcolor\":\"white\",\"linecolor\":\"white\",\"minorgridcolor\":\"white\",\"startlinecolor\":\"#2a3f5f\"},\"baxis\":{\"endlinecolor\":\"#2a3f5f\",\"gridcolor\":\"white\",\"linecolor\":\"white\",\"minorgridcolor\":\"white\",\"startlinecolor\":\"#2a3f5f\"},\"type\":\"carpet\"}],\"table\":[{\"cells\":{\"fill\":{\"color\":\"#EBF0F8\"},\"line\":{\"color\":\"white\"}},\"header\":{\"fill\":{\"color\":\"#C8D4E3\"},\"line\":{\"color\":\"white\"}},\"type\":\"table\"}],\"barpolar\":[{\"marker\":{\"line\":{\"color\":\"#E5ECF6\",\"width\":0.5},\"pattern\":{\"fillmode\":\"overlay\",\"size\":10,\"solidity\":0.2}},\"type\":\"barpolar\"}],\"pie\":[{\"automargin\":true,\"type\":\"pie\"}]},\"layout\":{\"autotypenumbers\":\"strict\",\"colorway\":[\"#636efa\",\"#EF553B\",\"#00cc96\",\"#ab63fa\",\"#FFA15A\",\"#19d3f3\",\"#FF6692\",\"#B6E880\",\"#FF97FF\",\"#FECB52\"],\"font\":{\"color\":\"#2a3f5f\"},\"hovermode\":\"closest\",\"hoverlabel\":{\"align\":\"left\"},\"paper_bgcolor\":\"white\",\"plot_bgcolor\":\"#E5ECF6\",\"polar\":{\"bgcolor\":\"#E5ECF6\",\"angularaxis\":{\"gridcolor\":\"white\",\"linecolor\":\"white\",\"ticks\":\"\"},\"radialaxis\":{\"gridcolor\":\"white\",\"linecolor\":\"white\",\"ticks\":\"\"}},\"ternary\":{\"bgcolor\":\"#E5ECF6\",\"aaxis\":{\"gridcolor\":\"white\",\"linecolor\":\"white\",\"ticks\":\"\"},\"baxis\":{\"gridcolor\":\"white\",\"linecolor\":\"white\",\"ticks\":\"\"},\"caxis\":{\"gridcolor\":\"white\",\"linecolor\":\"white\",\"ticks\":\"\"}},\"coloraxis\":{\"colorbar\":{\"outlinewidth\":0,\"ticks\":\"\"}},\"colorscale\":{\"sequential\":[[0.0,\"#0d0887\"],[0.1111111111111111,\"#46039f\"],[0.2222222222222222,\"#7201a8\"],[0.3333333333333333,\"#9c179e\"],[0.4444444444444444,\"#bd3786\"],[0.5555555555555556,\"#d8576b\"],[0.6666666666666666,\"#ed7953\"],[0.7777777777777778,\"#fb9f3a\"],[0.8888888888888888,\"#fdca26\"],[1.0,\"#f0f921\"]],\"sequentialminus\":[[0.0,\"#0d0887\"],[0.1111111111111111,\"#46039f\"],[0.2222222222222222,\"#7201a8\"],[0.3333333333333333,\"#9c179e\"],[0.4444444444444444,\"#bd3786\"],[0.5555555555555556,\"#d8576b\"],[0.6666666666666666,\"#ed7953\"],[0.7777777777777778,\"#fb9f3a\"],[0.8888888888888888,\"#fdca26\"],[1.0,\"#f0f921\"]],\"diverging\":[[0,\"#8e0152\"],[0.1,\"#c51b7d\"],[0.2,\"#de77ae\"],[0.3,\"#f1b6da\"],[0.4,\"#fde0ef\"],[0.5,\"#f7f7f7\"],[0.6,\"#e6f5d0\"],[0.7,\"#b8e186\"],[0.8,\"#7fbc41\"],[0.9,\"#4d9221\"],[1,\"#276419\"]]},\"xaxis\":{\"gridcolor\":\"white\",\"linecolor\":\"white\",\"ticks\":\"\",\"title\":{\"standoff\":15},\"zerolinecolor\":\"white\",\"automargin\":true,\"zerolinewidth\":2},\"yaxis\":{\"gridcolor\":\"white\",\"linecolor\":\"white\",\"ticks\":\"\",\"title\":{\"standoff\":15},\"zerolinecolor\":\"white\",\"automargin\":true,\"zerolinewidth\":2},\"scene\":{\"xaxis\":{\"backgroundcolor\":\"#E5ECF6\",\"gridcolor\":\"white\",\"linecolor\":\"white\",\"showbackground\":true,\"ticks\":\"\",\"zerolinecolor\":\"white\",\"gridwidth\":2},\"yaxis\":{\"backgroundcolor\":\"#E5ECF6\",\"gridcolor\":\"white\",\"linecolor\":\"white\",\"showbackground\":true,\"ticks\":\"\",\"zerolinecolor\":\"white\",\"gridwidth\":2},\"zaxis\":{\"backgroundcolor\":\"#E5ECF6\",\"gridcolor\":\"white\",\"linecolor\":\"white\",\"showbackground\":true,\"ticks\":\"\",\"zerolinecolor\":\"white\",\"gridwidth\":2}},\"shapedefaults\":{\"line\":{\"color\":\"#2a3f5f\"}},\"annotationdefaults\":{\"arrowcolor\":\"#2a3f5f\",\"arrowhead\":0,\"arrowwidth\":1},\"geo\":{\"bgcolor\":\"white\",\"landcolor\":\"#E5ECF6\",\"subunitcolor\":\"white\",\"showland\":true,\"showlakes\":true,\"lakecolor\":\"white\"},\"title\":{\"x\":0.05},\"mapbox\":{\"style\":\"light\"}}},\"xaxis\":{\"anchor\":\"y\",\"domain\":[0.0,1.0],\"title\":{\"text\":\"Year\",\"font\":{\"size\":16,\"color\":\"black\",\"family\":\"Arial\",\"weight\":\"bold\"}},\"gridcolor\":\"#E8E8E8\",\"gridwidth\":0.2},\"yaxis\":{\"anchor\":\"x\",\"domain\":[0.0,1.0],\"title\":{\"text\":\"Normalized Closing Price (%)\",\"font\":{\"size\":16,\"color\":\"black\",\"family\":\"Arial\",\"weight\":\"bold\"}},\"gridcolor\":\"#E8E8E8\",\"gridwidth\":0.2},\"legend\":{\"title\":{\"text\":\"Company\",\"font\":{\"size\":14,\"color\":\"black\",\"family\":\"Arial\",\"weight\":\"bold\"}},\"tracegroupgap\":0},\"title\":{\"text\":\"Normalized Stock Closing Prices Over Time (Yearly)\",\"font\":{\"size\":20,\"color\":\"black\",\"family\":\"Arial\",\"weight\":\"bold\"},\"x\":0.5},\"hovermode\":\"x unified\",\"plot_bgcolor\":\"white\",\"paper_bgcolor\":\"white\",\"width\":1000,\"height\":600,\"shapes\":[{\"line\":{\"color\":\"black\",\"width\":0.1},\"type\":\"rect\",\"x0\":0,\"x1\":1,\"xref\":\"paper\",\"y0\":0,\"y1\":1,\"yref\":\"paper\"}]},                        {\"responsive\": true}                    ).then(function(){\n",
       "                            \n",
       "var gd = document.getElementById('d633c62c-7ea1-49e0-834d-116639459d33');\n",
       "var x = new MutationObserver(function (mutations, observer) {{\n",
       "        var display = window.getComputedStyle(gd).display;\n",
       "        if (!display || display === 'none') {{\n",
       "            console.log([gd, 'removed!']);\n",
       "            Plotly.purge(gd);\n",
       "            observer.disconnect();\n",
       "        }}\n",
       "}});\n",
       "\n",
       "// Listen for the removal of the full notebook cells\n",
       "var notebookContainer = gd.closest('#notebook-container');\n",
       "if (notebookContainer) {{\n",
       "    x.observe(notebookContainer, {childList: true});\n",
       "}}\n",
       "\n",
       "// Listen for the clearing of the current output cell\n",
       "var outputEl = gd.closest('.output');\n",
       "if (outputEl) {{\n",
       "    x.observe(outputEl, {childList: true});\n",
       "}}\n",
       "\n",
       "                        })                };                });            </script>        </div>"
      ]
     },
     "metadata": {},
     "output_type": "display_data"
    }
   ],
   "source": [
    "import pandas as pd\n",
    "import plotly.express as px\n",
    "\n",
    "df_yearly = df_result.groupby(['year_id', 'company'])['close_price'].last().reset_index()\n",
    "\n",
    "\n",
    "df_yearly['normalized_close'] = df_yearly.groupby('company')['close_price'].transform(\n",
    "    lambda x: (x / x.iloc[0]) * 100\n",
    ")\n",
    "\n",
    "# companies = ['tsla', 'amzn', 'ibm', 'msft', 'aapl']\n",
    "\n",
    "companies = ['tsla', 'amzn', 'ibm', 'msft', 'aapl']\n",
    "colors = sns.color_palette(\"husl\", len(companies))\n",
    "color_map = {company: colors[idx] for idx, company in enumerate(companies)}\n",
    "\n",
    "df_filtered = df_yearly[df_yearly['company'].isin(companies)]\n",
    "\n",
    "\n",
    "fig = px.line(\n",
    "    df_filtered,\n",
    "    x='year_id',\n",
    "    y='normalized_close',\n",
    "    color='company',\n",
    "    markers=True,\n",
    "    title=\"Normalized Stock Closing Prices Over Time (Yearly)\",\n",
    "    labels={\n",
    "        \"year_id\": \"Year\",\n",
    "        \"normalized_close\": \"Normalized Closing Price (%)\",\n",
    "        \"company\": \"Company\"\n",
    "    },\n",
    "    color_discrete_map={company: f'rgb({int(color[0] * 255)}, {int(color[1] * 255)}, {int(color[2] * 255)})' for company, color in color_map.items()}  # Map colors to Plotly format\n",
    ")\n",
    "\n",
    "\n",
    "fig.update_layout(\n",
    "#     title_font_size=18,\n",
    "#     xaxis_title_font_size=16,\n",
    "#     yaxis_title_font_size=16,\n",
    "#     legend_title_font_size=14,\n",
    "    hovermode=\"x unified\",  # Show hover labels for all lines at once\n",
    "#     xaxis=dict(\n",
    "#         gridcolor=\"gray\",  # Match Matplotlib grid color\n",
    "#         gridwidth=0.7  # Solid grid lines\n",
    "#     ),\n",
    "#     yaxis=dict(\n",
    "#         gridcolor=\"gray\",  # Match Matplotlib grid color\n",
    "#         gridwidth=0.7  # Solid grid lines\n",
    "#     ),\n",
    "    title=dict(\n",
    "        text=\"Normalized Stock Closing Prices Over Time (Yearly)\",\n",
    "        font=dict(size=20, color=\"black\", family=\"Arial\", weight=\"bold\"),  \n",
    "        x=0.5,  # Center the title\n",
    "    ),\n",
    "    xaxis=dict(\n",
    "        title=dict(\n",
    "            text=\"Year\",\n",
    "            font=dict(size=16, color=\"black\", family=\"Arial\", weight=\"bold\")  \n",
    "        ),\n",
    "        gridcolor=\"#E8E8E8\",  \n",
    "        gridwidth=0.2  \n",
    "    ),\n",
    "    yaxis=dict(\n",
    "        title=dict(\n",
    "            text=\"Normalized Closing Price (%)\",\n",
    "            font=dict(size=16, color=\"black\", family=\"Arial\", weight=\"bold\")  \n",
    "        ),\n",
    "        gridcolor=\"#E8E8E8\",  \n",
    "        gridwidth=0.2  \n",
    "    ),\n",
    "    legend_title=dict(\n",
    "        text=\"Company\",\n",
    "        font=dict(size=14, color=\"black\", family=\"Arial\", weight=\"bold\")  \n",
    "    ),\n",
    "    plot_bgcolor=\"white\",  \n",
    "    paper_bgcolor=\"white\", \n",
    "    width=1000,  =\n",
    "    height=600, \n",
    "    shapes=[\n",
    "        dict(\n",
    "            type=\"rect\",\n",
    "            xref=\"paper\",  \n",
    "            yref=\"paper\",\n",
    "            x0=0, y0=0, \n",
    "            x1=1, y1=1,  \n",
    "            line=dict(\n",
    "                color=\"black\",  \n",
    "                width=0.1, \n",
    "            ),\n",
    "        )\n",
    "    ]\n",
    ")\n",
    "fig.show()\n"
   ]
  },
  {
   "cell_type": "markdown",
   "metadata": {},
   "source": [
    "### Normalize Close Price defination"
   ]
  },
  {
   "cell_type": "markdown",
   "metadata": {},
   "source": [
    "In the context of stock prices, normalized closing price refers to adjusting the closing prices of stocks for each company over time, such that the first data point (the first month in this case) is set to 100%. This allows you to compare the relative performance of different companies over time on the same scale, independent of their initial price levels.\n",
    "\n",
    "Formula for Normalization:\n",
    "To normalize the closing price for each company, the formula is:\n",
    "\n",
    "Normalized Closing Price\n",
    "𝑡\n",
    "=\n",
    "Close Price\n",
    "𝑡\n",
    "Close Price\n",
    "0\n",
    "×\n",
    "100\n",
    "Normalized Closing Price \n",
    "t\n",
    "​\n",
    " = \n",
    "Close Price \n",
    "0\n",
    "​\n",
    " \n",
    "Close Price \n",
    "t\n",
    "​\n",
    " \n",
    "​\n",
    " ×100\n",
    "Where:\n",
    "\n",
    "Close Price\n",
    "𝑡\n",
    "Close Price \n",
    "t\n",
    "​\n",
    "  is the closing price of the stock in month \n",
    "𝑡\n",
    "t.\n",
    "Close Price\n",
    "0\n",
    "Close Price \n",
    "0\n",
    "​\n",
    "  is the closing price of the stock in the first month of the data.\n",
    "The result is multiplied by 100 to express it as a percentage relative to the initial closing price.\n",
    "Steps in the Code:\n",
    "Filter the data for each company: We isolate the data for each company to compute its individual normalized price.\n",
    "\n",
    "Normalize the closing prices: For each company, we calculate the normalized closing price by dividing each month’s closing price by the closing price of the first month (company_data['close_price'].iloc[0]) and multiplying by 100.\n",
    "\n",
    "Plot the normalized closing prices: Finally, the normalized closing prices are plotted for each company to show the relative growth or decline over time.\n",
    "\n",
    "Example:\n",
    "If a company's closing price in the first month (Close Price_0) is $50, the normalized price for that month will be:\n",
    "\n",
    "50\n",
    "50\n",
    "×\n",
    "100\n",
    "=\n",
    "100\n",
    "50\n",
    "50\n",
    "​\n",
    " ×100=100\n",
    "If in the second month the closing price rises to $60, the normalized price for that month will be:\n",
    "\n",
    "60\n",
    "50\n",
    "×\n",
    "100\n",
    "=\n",
    "120\n",
    "50\n",
    "60\n",
    "​\n",
    " ×100=120\n",
    "This means that, relative to the first month, the stock has grown by 20%.\n",
    "\n",
    "By normalizing the prices, you can now directly compare the growth trajectories of multiple companies on the same scale."
   ]
  }
 ],
 "metadata": {
  "kernelspec": {
   "display_name": "Python 3 (ipykernel)",
   "language": "python",
   "name": "python3"
  },
  "language_info": {
   "codemirror_mode": {
    "name": "ipython",
    "version": 3
   },
   "file_extension": ".py",
   "mimetype": "text/x-python",
   "name": "python",
   "nbconvert_exporter": "python",
   "pygments_lexer": "ipython3",
   "version": "3.12.7"
  }
 },
 "nbformat": 4,
 "nbformat_minor": 4
}
